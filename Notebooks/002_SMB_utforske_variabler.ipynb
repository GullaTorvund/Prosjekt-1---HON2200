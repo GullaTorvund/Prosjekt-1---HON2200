{
 "cells": [
  {
   "cell_type": "code",
   "execution_count": 1,
   "metadata": {},
   "outputs": [],
   "source": [
    "import numpy as np\n",
    "import pandas as pd\n",
    "import matplotlib.pyplot as plt"
   ]
  },
  {
   "cell_type": "code",
   "execution_count": 2,
   "metadata": {},
   "outputs": [],
   "source": [
    "df = pd.read_csv(\"..//Data/compas-scores-two-years.csv\")\n",
    "#display(df.columns)"
   ]
  },
  {
   "cell_type": "code",
   "execution_count": null,
   "metadata": {},
   "outputs": [],
   "source": [
    "df"
   ]
  },
  {
   "cell_type": "code",
   "execution_count": null,
   "metadata": {},
   "outputs": [],
   "source": [
    "display(df[['priors_count','juv_fel_count','juv_misd_count', 'juv_other_count','decile_score','is_recid','c_charge_degree', 'score_text']])"
   ]
  },
  {
   "cell_type": "markdown",
   "metadata": {},
   "source": [
    "### Oppgave 1b"
   ]
  },
  {
   "cell_type": "markdown",
   "metadata": {},
   "source": [
    "Omgjøre score_text til to kategorier, low --> 0, medium og high --> 1"
   ]
  },
  {
   "cell_type": "code",
   "execution_count": 3,
   "metadata": {},
   "outputs": [
    {
     "data": {
      "text/html": [
       "<div>\n",
       "<style scoped>\n",
       "    .dataframe tbody tr th:only-of-type {\n",
       "        vertical-align: middle;\n",
       "    }\n",
       "\n",
       "    .dataframe tbody tr th {\n",
       "        vertical-align: top;\n",
       "    }\n",
       "\n",
       "    .dataframe thead th {\n",
       "        text-align: right;\n",
       "    }\n",
       "</style>\n",
       "<table border=\"1\" class=\"dataframe\">\n",
       "  <thead>\n",
       "    <tr style=\"text-align: right;\">\n",
       "      <th></th>\n",
       "      <th>sex</th>\n",
       "      <th>race</th>\n",
       "      <th>two_year_recid</th>\n",
       "      <th>score_text</th>\n",
       "    </tr>\n",
       "  </thead>\n",
       "  <tbody>\n",
       "    <tr>\n",
       "      <th>0</th>\n",
       "      <td>Male</td>\n",
       "      <td>Other</td>\n",
       "      <td>0</td>\n",
       "      <td>Low</td>\n",
       "    </tr>\n",
       "    <tr>\n",
       "      <th>1</th>\n",
       "      <td>Male</td>\n",
       "      <td>African-American</td>\n",
       "      <td>1</td>\n",
       "      <td>Low</td>\n",
       "    </tr>\n",
       "    <tr>\n",
       "      <th>2</th>\n",
       "      <td>Male</td>\n",
       "      <td>African-American</td>\n",
       "      <td>1</td>\n",
       "      <td>Low</td>\n",
       "    </tr>\n",
       "    <tr>\n",
       "      <th>3</th>\n",
       "      <td>Male</td>\n",
       "      <td>African-American</td>\n",
       "      <td>0</td>\n",
       "      <td>High</td>\n",
       "    </tr>\n",
       "    <tr>\n",
       "      <th>4</th>\n",
       "      <td>Male</td>\n",
       "      <td>Other</td>\n",
       "      <td>0</td>\n",
       "      <td>Low</td>\n",
       "    </tr>\n",
       "    <tr>\n",
       "      <th>...</th>\n",
       "      <td>...</td>\n",
       "      <td>...</td>\n",
       "      <td>...</td>\n",
       "      <td>...</td>\n",
       "    </tr>\n",
       "    <tr>\n",
       "      <th>7209</th>\n",
       "      <td>Male</td>\n",
       "      <td>African-American</td>\n",
       "      <td>0</td>\n",
       "      <td>Medium</td>\n",
       "    </tr>\n",
       "    <tr>\n",
       "      <th>7210</th>\n",
       "      <td>Male</td>\n",
       "      <td>African-American</td>\n",
       "      <td>0</td>\n",
       "      <td>Low</td>\n",
       "    </tr>\n",
       "    <tr>\n",
       "      <th>7211</th>\n",
       "      <td>Male</td>\n",
       "      <td>Other</td>\n",
       "      <td>0</td>\n",
       "      <td>Low</td>\n",
       "    </tr>\n",
       "    <tr>\n",
       "      <th>7212</th>\n",
       "      <td>Female</td>\n",
       "      <td>African-American</td>\n",
       "      <td>0</td>\n",
       "      <td>Low</td>\n",
       "    </tr>\n",
       "    <tr>\n",
       "      <th>7213</th>\n",
       "      <td>Female</td>\n",
       "      <td>Hispanic</td>\n",
       "      <td>1</td>\n",
       "      <td>Low</td>\n",
       "    </tr>\n",
       "  </tbody>\n",
       "</table>\n",
       "<p>7214 rows × 4 columns</p>\n",
       "</div>"
      ],
      "text/plain": [
       "         sex              race  two_year_recid score_text\n",
       "0       Male             Other               0        Low\n",
       "1       Male  African-American               1        Low\n",
       "2       Male  African-American               1        Low\n",
       "3       Male  African-American               0       High\n",
       "4       Male             Other               0        Low\n",
       "...      ...               ...             ...        ...\n",
       "7209    Male  African-American               0     Medium\n",
       "7210    Male  African-American               0        Low\n",
       "7211    Male             Other               0        Low\n",
       "7212  Female  African-American               0        Low\n",
       "7213  Female          Hispanic               1        Low\n",
       "\n",
       "[7214 rows x 4 columns]"
      ]
     },
     "execution_count": 3,
     "metadata": {},
     "output_type": "execute_result"
    }
   ],
   "source": [
    "#jobber med mindre dataframe\n",
    "sdf = df[['sex', 'race', 'two_year_recid', 'score_text']]\n",
    "sdf"
   ]
  },
  {
   "cell_type": "code",
   "execution_count": null,
   "metadata": {},
   "outputs": [],
   "source": [
    "#don't think this is needed when using crosstable\n",
    "#might affect efficiency in positive manner by this way- check later\n",
    "\"\"\"\n",
    "def pred(row):\n",
    "    if row['high_risk'] == 1:\n",
    "        if row['two_year_recid'] == 1:\n",
    "            return 'TP'\n",
    "        else:\n",
    "            return 'FP'\n",
    "    else:\n",
    "        if row['two_year_recid'] == 1:\n",
    "            return 'FN'\n",
    "        else:\n",
    "            return 'TN'\n",
    "\"\"\""
   ]
  },
  {
   "cell_type": "code",
   "execution_count": 4,
   "metadata": {},
   "outputs": [
    {
     "name": "stderr",
     "output_type": "stream",
     "text": [
      "<ipython-input-4-3f5e8fb2c19b>:1: SettingWithCopyWarning: \n",
      "A value is trying to be set on a copy of a slice from a DataFrame.\n",
      "Try using .loc[row_indexer,col_indexer] = value instead\n",
      "\n",
      "See the caveats in the documentation: https://pandas.pydata.org/pandas-docs/stable/user_guide/indexing.html#returning-a-view-versus-a-copy\n",
      "  sdf['high_risk'] = sdf['score_text'].apply(lambda score: 0 if score == 'Low' else 1)\n",
      "<ipython-input-4-3f5e8fb2c19b>:2: SettingWithCopyWarning: \n",
      "A value is trying to be set on a copy of a slice from a DataFrame.\n",
      "Try using .loc[row_indexer,col_indexer] = value instead\n",
      "\n",
      "See the caveats in the documentation: https://pandas.pydata.org/pandas-docs/stable/user_guide/indexing.html#returning-a-view-versus-a-copy\n",
      "  sdf['all'] = sdf['score_text'].apply(lambda x: 'All')\n"
     ]
    },
    {
     "data": {
      "text/html": [
       "<div>\n",
       "<style scoped>\n",
       "    .dataframe tbody tr th:only-of-type {\n",
       "        vertical-align: middle;\n",
       "    }\n",
       "\n",
       "    .dataframe tbody tr th {\n",
       "        vertical-align: top;\n",
       "    }\n",
       "\n",
       "    .dataframe thead th {\n",
       "        text-align: right;\n",
       "    }\n",
       "</style>\n",
       "<table border=\"1\" class=\"dataframe\">\n",
       "  <thead>\n",
       "    <tr style=\"text-align: right;\">\n",
       "      <th></th>\n",
       "      <th>sex</th>\n",
       "      <th>race</th>\n",
       "      <th>two_year_recid</th>\n",
       "      <th>score_text</th>\n",
       "      <th>high_risk</th>\n",
       "      <th>all</th>\n",
       "    </tr>\n",
       "  </thead>\n",
       "  <tbody>\n",
       "    <tr>\n",
       "      <th>0</th>\n",
       "      <td>Male</td>\n",
       "      <td>Other</td>\n",
       "      <td>0</td>\n",
       "      <td>Low</td>\n",
       "      <td>0</td>\n",
       "      <td>All</td>\n",
       "    </tr>\n",
       "    <tr>\n",
       "      <th>1</th>\n",
       "      <td>Male</td>\n",
       "      <td>African-American</td>\n",
       "      <td>1</td>\n",
       "      <td>Low</td>\n",
       "      <td>0</td>\n",
       "      <td>All</td>\n",
       "    </tr>\n",
       "    <tr>\n",
       "      <th>2</th>\n",
       "      <td>Male</td>\n",
       "      <td>African-American</td>\n",
       "      <td>1</td>\n",
       "      <td>Low</td>\n",
       "      <td>0</td>\n",
       "      <td>All</td>\n",
       "    </tr>\n",
       "    <tr>\n",
       "      <th>3</th>\n",
       "      <td>Male</td>\n",
       "      <td>African-American</td>\n",
       "      <td>0</td>\n",
       "      <td>High</td>\n",
       "      <td>1</td>\n",
       "      <td>All</td>\n",
       "    </tr>\n",
       "    <tr>\n",
       "      <th>4</th>\n",
       "      <td>Male</td>\n",
       "      <td>Other</td>\n",
       "      <td>0</td>\n",
       "      <td>Low</td>\n",
       "      <td>0</td>\n",
       "      <td>All</td>\n",
       "    </tr>\n",
       "    <tr>\n",
       "      <th>...</th>\n",
       "      <td>...</td>\n",
       "      <td>...</td>\n",
       "      <td>...</td>\n",
       "      <td>...</td>\n",
       "      <td>...</td>\n",
       "      <td>...</td>\n",
       "    </tr>\n",
       "    <tr>\n",
       "      <th>7209</th>\n",
       "      <td>Male</td>\n",
       "      <td>African-American</td>\n",
       "      <td>0</td>\n",
       "      <td>Medium</td>\n",
       "      <td>1</td>\n",
       "      <td>All</td>\n",
       "    </tr>\n",
       "    <tr>\n",
       "      <th>7210</th>\n",
       "      <td>Male</td>\n",
       "      <td>African-American</td>\n",
       "      <td>0</td>\n",
       "      <td>Low</td>\n",
       "      <td>0</td>\n",
       "      <td>All</td>\n",
       "    </tr>\n",
       "    <tr>\n",
       "      <th>7211</th>\n",
       "      <td>Male</td>\n",
       "      <td>Other</td>\n",
       "      <td>0</td>\n",
       "      <td>Low</td>\n",
       "      <td>0</td>\n",
       "      <td>All</td>\n",
       "    </tr>\n",
       "    <tr>\n",
       "      <th>7212</th>\n",
       "      <td>Female</td>\n",
       "      <td>African-American</td>\n",
       "      <td>0</td>\n",
       "      <td>Low</td>\n",
       "      <td>0</td>\n",
       "      <td>All</td>\n",
       "    </tr>\n",
       "    <tr>\n",
       "      <th>7213</th>\n",
       "      <td>Female</td>\n",
       "      <td>Hispanic</td>\n",
       "      <td>1</td>\n",
       "      <td>Low</td>\n",
       "      <td>0</td>\n",
       "      <td>All</td>\n",
       "    </tr>\n",
       "  </tbody>\n",
       "</table>\n",
       "<p>7214 rows × 6 columns</p>\n",
       "</div>"
      ],
      "text/plain": [
       "         sex              race  two_year_recid score_text  high_risk  all\n",
       "0       Male             Other               0        Low          0  All\n",
       "1       Male  African-American               1        Low          0  All\n",
       "2       Male  African-American               1        Low          0  All\n",
       "3       Male  African-American               0       High          1  All\n",
       "4       Male             Other               0        Low          0  All\n",
       "...      ...               ...             ...        ...        ...  ...\n",
       "7209    Male  African-American               0     Medium          1  All\n",
       "7210    Male  African-American               0        Low          0  All\n",
       "7211    Male             Other               0        Low          0  All\n",
       "7212  Female  African-American               0        Low          0  All\n",
       "7213  Female          Hispanic               1        Low          0  All\n",
       "\n",
       "[7214 rows x 6 columns]"
      ]
     },
     "execution_count": 4,
     "metadata": {},
     "output_type": "execute_result"
    }
   ],
   "source": [
    "sdf['high_risk'] = sdf['score_text'].apply(lambda score: 0 if score == 'Low' else 1) \n",
    "sdf['all'] = sdf['score_text'].apply(lambda x: 'All')\n",
    "sdf\n",
    "#sdf['truth_tab'] = sdf.apply(lambda row: pred(row), axis = 1)"
   ]
  },
  {
   "cell_type": "code",
   "execution_count": 5,
   "metadata": {},
   "outputs": [],
   "source": [
    "def crosstab(df):\n",
    "    return pd.crosstab(df.high_risk, df.two_year_recid, margins=True, normalize=True)"
   ]
  },
  {
   "cell_type": "code",
   "execution_count": 6,
   "metadata": {},
   "outputs": [],
   "source": [
    "def false_positive(cross_table, label):\n",
    "    return cross_table.loc[(label, 1), 0]"
   ]
  },
  {
   "cell_type": "code",
   "execution_count": 7,
   "metadata": {},
   "outputs": [],
   "source": [
    "def true_positive(cross_table, label):\n",
    "    return cross_table.loc[(label, 1), 1]"
   ]
  },
  {
   "cell_type": "code",
   "execution_count": 8,
   "metadata": {},
   "outputs": [],
   "source": [
    "def true_negative(cross_table, label):\n",
    "    return cross_table.loc[(label, 0), 0]"
   ]
  },
  {
   "cell_type": "code",
   "execution_count": 9,
   "metadata": {},
   "outputs": [],
   "source": [
    "def false_negative(cross_table, label):\n",
    "    return cross_table.loc[(label, 0), 1]"
   ]
  },
  {
   "cell_type": "code",
   "execution_count": 29,
   "metadata": {},
   "outputs": [],
   "source": [
    "#correct?\n",
    "#using bayes theorem - ish\n",
    "def p_recid_g_high(cross_table, label):\n",
    "    return cross_table.loc[(label, 1), 1] / cross_table.loc[(label, 1), 'All']"
   ]
  },
  {
   "cell_type": "code",
   "execution_count": null,
   "metadata": {},
   "outputs": [],
   "source": [
    "by_sex = sdf.groupby('sex')\n",
    "ct_sex = by_sex.apply(crosstab)\n",
    "ct_sex"
   ]
  },
  {
   "cell_type": "code",
   "execution_count": null,
   "metadata": {},
   "outputs": [],
   "source": [
    "functions = [false_positive, false_negative, true_positive, false_positive, p_recid_g_high]\n",
    "d = {}\n",
    "for function in functions:\n",
    "    inner_dict = {}\n",
    "    for group in by_sex.groups:\n",
    "        inner_dict[str(group)] = function(ct_sex, str(group))\n",
    "    d[function.__name__] = inner_dict\n",
    "d"
   ]
  },
  {
   "cell_type": "code",
   "execution_count": null,
   "metadata": {},
   "outputs": [],
   "source": [
    "#CHECK IF ALL NUMBERS ARE CORRECT!\n",
    "sum(sdf.high_risk)\n",
    "#this sum is correct\n",
    "a = ct_sex.loc[('Female', 0), 1]\n",
    "a"
   ]
  },
  {
   "cell_type": "code",
   "execution_count": null,
   "metadata": {},
   "outputs": [],
   "source": [
    "ct_sex.index.values\n",
    "ct_sex.columns"
   ]
  },
  {
   "cell_type": "code",
   "execution_count": null,
   "metadata": {},
   "outputs": [],
   "source": [
    "by_race = sdf.groupby('race')\n",
    "#drop any group? What counts as 'black' here?\n",
    "by_race.apply(crosstab)"
   ]
  },
  {
   "cell_type": "code",
   "execution_count": 18,
   "metadata": {},
   "outputs": [
    {
     "data": {
      "text/plain": [
       "[<pandas.core.groupby.generic.DataFrameGroupBy object at 0x0000028961045F70>,\n",
       " <pandas.core.groupby.generic.DataFrameGroupBy object at 0x00000289616FB7C0>,\n",
       " <pandas.core.groupby.generic.DataFrameGroupBy object at 0x00000289616FB9A0>]"
      ]
     },
     "execution_count": 18,
     "metadata": {},
     "output_type": "execute_result"
    }
   ],
   "source": [
    "groupobj = [sdf.groupby('all'), sdf.groupby('sex'), sdf.groupby('race')]"
   ]
  },
  {
   "cell_type": "code",
   "execution_count": 23,
   "metadata": {},
   "outputs": [],
   "source": [
    "cross_tables = [group.apply(crosstab) for group in groupobj]\n",
    "#cross_tables"
   ]
  },
  {
   "cell_type": "code",
   "execution_count": 30,
   "metadata": {},
   "outputs": [
    {
     "data": {
      "text/plain": [
       "{'false_positive': {'All': 0.178,\n",
       "  'Female': 0.206,\n",
       "  'Male': 0.171,\n",
       "  'African-American': 0.218,\n",
       "  'Asian': 0.062,\n",
       "  'Caucasian': 0.142,\n",
       "  'Hispanic': 0.137,\n",
       "  'Native American': 0.167,\n",
       "  'Other': 0.095},\n",
       " 'false_negative': {'All': 0.169,\n",
       "  'Female': 0.14,\n",
       "  'Male': 0.175,\n",
       "  'African-American': 0.144,\n",
       "  'Asian': 0.094,\n",
       "  'Caucasian': 0.188,\n",
       "  'Hispanic': 0.203,\n",
       "  'Native American': 0.056,\n",
       "  'Other': 0.239},\n",
       " 'true_positive': {'All': 0.282,\n",
       "  'Female': 0.217,\n",
       "  'Male': 0.298,\n",
       "  'African-American': 0.37,\n",
       "  'Asian': 0.188,\n",
       "  'Caucasian': 0.206,\n",
       "  'Hispanic': 0.162,\n",
       "  'Native American': 0.5,\n",
       "  'Other': 0.114},\n",
       " 'true_negative': {'All': 0.372,\n",
       "  'Female': 0.437,\n",
       "  'Male': 0.356,\n",
       "  'African-American': 0.268,\n",
       "  'Asian': 0.656,\n",
       "  'Caucasian': 0.464,\n",
       "  'Hispanic': 0.499,\n",
       "  'Native American': 0.278,\n",
       "  'Other': 0.552},\n",
       " 'p_recid_g_high': {'All': 0.614,\n",
       "  'Female': 0.513,\n",
       "  'Male': 0.635,\n",
       "  'African-American': 0.63,\n",
       "  'Asian': 0.75,\n",
       "  'Caucasian': 0.591,\n",
       "  'Hispanic': 0.542,\n",
       "  'Native American': 0.75,\n",
       "  'Other': 0.544}}"
      ]
     },
     "execution_count": 30,
     "metadata": {},
     "output_type": "execute_result"
    }
   ],
   "source": [
    "functions = [false_positive, false_negative, true_positive, true_negative, p_recid_g_high]\n",
    "d = {}\n",
    "for function in functions:\n",
    "    inner_dict = {}\n",
    "    for sort, table in zip(groupobj, cross_tables):\n",
    "        for group in sort.groups:\n",
    "            inner_dict[str(group)] = round(function(table, str(group)), 3)\n",
    "    d[function.__name__] = inner_dict\n",
    "d"
   ]
  }
 ],
 "metadata": {
  "kernelspec": {
   "display_name": "Python 3",
   "language": "python",
   "name": "python3"
  },
  "language_info": {
   "codemirror_mode": {
    "name": "ipython",
    "version": 3
   },
   "file_extension": ".py",
   "mimetype": "text/x-python",
   "name": "python",
   "nbconvert_exporter": "python",
   "pygments_lexer": "ipython3",
   "version": "3.8.5"
  }
 },
 "nbformat": 4,
 "nbformat_minor": 4
}
