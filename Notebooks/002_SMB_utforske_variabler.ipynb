{
 "cells": [
  {
   "cell_type": "code",
   "execution_count": 1,
   "metadata": {},
   "outputs": [],
   "source": [
    "import numpy as np\n",
    "import pandas as pd\n",
    "import matplotlib.pyplot as plt"
   ]
  },
  {
   "cell_type": "code",
   "execution_count": 2,
   "metadata": {},
   "outputs": [],
   "source": [
    "df = pd.read_csv(\"..//Data/compas-scores-two-years.csv\")\n",
    "#display(df.columns)"
   ]
  },
  {
   "cell_type": "code",
   "execution_count": 3,
   "metadata": {},
   "outputs": [],
   "source": [
    "#if we want to compare and get same answers as Compas Analysis.ipynb DO NOT run this cell (will remove rows)\n",
    "df = df[df[\"days_b_screening_arrest\"] <= 30]\n",
    "df = df[df[\"days_b_screening_arrest\"] >= -30]"
   ]
  },
  {
   "cell_type": "markdown",
   "metadata": {},
   "source": [
    "### Oppgave 1b"
   ]
  },
  {
   "cell_type": "markdown",
   "metadata": {},
   "source": [
    "Omgjøre score_text til to kategorier, low --> 0, medium og high --> 1"
   ]
  },
  {
   "cell_type": "code",
   "execution_count": 4,
   "metadata": {},
   "outputs": [
    {
     "data": {
      "text/html": [
       "<div>\n",
       "<style scoped>\n",
       "    .dataframe tbody tr th:only-of-type {\n",
       "        vertical-align: middle;\n",
       "    }\n",
       "\n",
       "    .dataframe tbody tr th {\n",
       "        vertical-align: top;\n",
       "    }\n",
       "\n",
       "    .dataframe thead th {\n",
       "        text-align: right;\n",
       "    }\n",
       "</style>\n",
       "<table border=\"1\" class=\"dataframe\">\n",
       "  <thead>\n",
       "    <tr style=\"text-align: right;\">\n",
       "      <th></th>\n",
       "      <th>sex</th>\n",
       "      <th>race</th>\n",
       "      <th>two_year_recid</th>\n",
       "      <th>score_text</th>\n",
       "    </tr>\n",
       "  </thead>\n",
       "  <tbody>\n",
       "    <tr>\n",
       "      <th>0</th>\n",
       "      <td>Male</td>\n",
       "      <td>Other</td>\n",
       "      <td>0</td>\n",
       "      <td>Low</td>\n",
       "    </tr>\n",
       "    <tr>\n",
       "      <th>1</th>\n",
       "      <td>Male</td>\n",
       "      <td>African-American</td>\n",
       "      <td>1</td>\n",
       "      <td>Low</td>\n",
       "    </tr>\n",
       "    <tr>\n",
       "      <th>2</th>\n",
       "      <td>Male</td>\n",
       "      <td>African-American</td>\n",
       "      <td>1</td>\n",
       "      <td>Low</td>\n",
       "    </tr>\n",
       "    <tr>\n",
       "      <th>5</th>\n",
       "      <td>Male</td>\n",
       "      <td>Other</td>\n",
       "      <td>0</td>\n",
       "      <td>Low</td>\n",
       "    </tr>\n",
       "    <tr>\n",
       "      <th>6</th>\n",
       "      <td>Male</td>\n",
       "      <td>Caucasian</td>\n",
       "      <td>1</td>\n",
       "      <td>Medium</td>\n",
       "    </tr>\n",
       "    <tr>\n",
       "      <th>...</th>\n",
       "      <td>...</td>\n",
       "      <td>...</td>\n",
       "      <td>...</td>\n",
       "      <td>...</td>\n",
       "    </tr>\n",
       "    <tr>\n",
       "      <th>7209</th>\n",
       "      <td>Male</td>\n",
       "      <td>African-American</td>\n",
       "      <td>0</td>\n",
       "      <td>Medium</td>\n",
       "    </tr>\n",
       "    <tr>\n",
       "      <th>7210</th>\n",
       "      <td>Male</td>\n",
       "      <td>African-American</td>\n",
       "      <td>0</td>\n",
       "      <td>Low</td>\n",
       "    </tr>\n",
       "    <tr>\n",
       "      <th>7211</th>\n",
       "      <td>Male</td>\n",
       "      <td>Other</td>\n",
       "      <td>0</td>\n",
       "      <td>Low</td>\n",
       "    </tr>\n",
       "    <tr>\n",
       "      <th>7212</th>\n",
       "      <td>Female</td>\n",
       "      <td>African-American</td>\n",
       "      <td>0</td>\n",
       "      <td>Low</td>\n",
       "    </tr>\n",
       "    <tr>\n",
       "      <th>7213</th>\n",
       "      <td>Female</td>\n",
       "      <td>Hispanic</td>\n",
       "      <td>1</td>\n",
       "      <td>Low</td>\n",
       "    </tr>\n",
       "  </tbody>\n",
       "</table>\n",
       "<p>6172 rows × 4 columns</p>\n",
       "</div>"
      ],
      "text/plain": [
       "         sex              race  two_year_recid score_text\n",
       "0       Male             Other               0        Low\n",
       "1       Male  African-American               1        Low\n",
       "2       Male  African-American               1        Low\n",
       "5       Male             Other               0        Low\n",
       "6       Male         Caucasian               1     Medium\n",
       "...      ...               ...             ...        ...\n",
       "7209    Male  African-American               0     Medium\n",
       "7210    Male  African-American               0        Low\n",
       "7211    Male             Other               0        Low\n",
       "7212  Female  African-American               0        Low\n",
       "7213  Female          Hispanic               1        Low\n",
       "\n",
       "[6172 rows x 4 columns]"
      ]
     },
     "execution_count": 4,
     "metadata": {},
     "output_type": "execute_result"
    }
   ],
   "source": [
    "#jobber med mindre dataframe\n",
    "sdf = df[['sex', 'race', 'two_year_recid', 'score_text']]\n",
    "sdf"
   ]
  },
  {
   "cell_type": "code",
   "execution_count": 5,
   "metadata": {},
   "outputs": [
    {
     "name": "stderr",
     "output_type": "stream",
     "text": [
      "<ipython-input-5-ada2cbb63ede>:2: SettingWithCopyWarning: \n",
      "A value is trying to be set on a copy of a slice from a DataFrame.\n",
      "Try using .loc[row_indexer,col_indexer] = value instead\n",
      "\n",
      "See the caveats in the documentation: https://pandas.pydata.org/pandas-docs/stable/user_guide/indexing.html#returning-a-view-versus-a-copy\n",
      "  sdf['high_risk'] = sdf['score_text'].apply(lambda score: 0 if score == 'Low' else 1)\n",
      "<ipython-input-5-ada2cbb63ede>:4: SettingWithCopyWarning: \n",
      "A value is trying to be set on a copy of a slice from a DataFrame.\n",
      "Try using .loc[row_indexer,col_indexer] = value instead\n",
      "\n",
      "See the caveats in the documentation: https://pandas.pydata.org/pandas-docs/stable/user_guide/indexing.html#returning-a-view-versus-a-copy\n",
      "  sdf['all'] = sdf['score_text'].apply(lambda x: 'All') #need this for groupby object later\n"
     ]
    },
    {
     "data": {
      "text/html": [
       "<div>\n",
       "<style scoped>\n",
       "    .dataframe tbody tr th:only-of-type {\n",
       "        vertical-align: middle;\n",
       "    }\n",
       "\n",
       "    .dataframe tbody tr th {\n",
       "        vertical-align: top;\n",
       "    }\n",
       "\n",
       "    .dataframe thead th {\n",
       "        text-align: right;\n",
       "    }\n",
       "</style>\n",
       "<table border=\"1\" class=\"dataframe\">\n",
       "  <thead>\n",
       "    <tr style=\"text-align: right;\">\n",
       "      <th></th>\n",
       "      <th>sex</th>\n",
       "      <th>race</th>\n",
       "      <th>two_year_recid</th>\n",
       "      <th>score_text</th>\n",
       "      <th>high_risk</th>\n",
       "      <th>all</th>\n",
       "    </tr>\n",
       "  </thead>\n",
       "  <tbody>\n",
       "    <tr>\n",
       "      <th>0</th>\n",
       "      <td>Male</td>\n",
       "      <td>Other</td>\n",
       "      <td>0</td>\n",
       "      <td>Low</td>\n",
       "      <td>0</td>\n",
       "      <td>All</td>\n",
       "    </tr>\n",
       "    <tr>\n",
       "      <th>1</th>\n",
       "      <td>Male</td>\n",
       "      <td>African-American</td>\n",
       "      <td>1</td>\n",
       "      <td>Low</td>\n",
       "      <td>0</td>\n",
       "      <td>All</td>\n",
       "    </tr>\n",
       "    <tr>\n",
       "      <th>2</th>\n",
       "      <td>Male</td>\n",
       "      <td>African-American</td>\n",
       "      <td>1</td>\n",
       "      <td>Low</td>\n",
       "      <td>0</td>\n",
       "      <td>All</td>\n",
       "    </tr>\n",
       "    <tr>\n",
       "      <th>5</th>\n",
       "      <td>Male</td>\n",
       "      <td>Other</td>\n",
       "      <td>0</td>\n",
       "      <td>Low</td>\n",
       "      <td>0</td>\n",
       "      <td>All</td>\n",
       "    </tr>\n",
       "    <tr>\n",
       "      <th>6</th>\n",
       "      <td>Male</td>\n",
       "      <td>Caucasian</td>\n",
       "      <td>1</td>\n",
       "      <td>Medium</td>\n",
       "      <td>1</td>\n",
       "      <td>All</td>\n",
       "    </tr>\n",
       "    <tr>\n",
       "      <th>...</th>\n",
       "      <td>...</td>\n",
       "      <td>...</td>\n",
       "      <td>...</td>\n",
       "      <td>...</td>\n",
       "      <td>...</td>\n",
       "      <td>...</td>\n",
       "    </tr>\n",
       "    <tr>\n",
       "      <th>7209</th>\n",
       "      <td>Male</td>\n",
       "      <td>African-American</td>\n",
       "      <td>0</td>\n",
       "      <td>Medium</td>\n",
       "      <td>1</td>\n",
       "      <td>All</td>\n",
       "    </tr>\n",
       "    <tr>\n",
       "      <th>7210</th>\n",
       "      <td>Male</td>\n",
       "      <td>African-American</td>\n",
       "      <td>0</td>\n",
       "      <td>Low</td>\n",
       "      <td>0</td>\n",
       "      <td>All</td>\n",
       "    </tr>\n",
       "    <tr>\n",
       "      <th>7211</th>\n",
       "      <td>Male</td>\n",
       "      <td>Other</td>\n",
       "      <td>0</td>\n",
       "      <td>Low</td>\n",
       "      <td>0</td>\n",
       "      <td>All</td>\n",
       "    </tr>\n",
       "    <tr>\n",
       "      <th>7212</th>\n",
       "      <td>Female</td>\n",
       "      <td>African-American</td>\n",
       "      <td>0</td>\n",
       "      <td>Low</td>\n",
       "      <td>0</td>\n",
       "      <td>All</td>\n",
       "    </tr>\n",
       "    <tr>\n",
       "      <th>7213</th>\n",
       "      <td>Female</td>\n",
       "      <td>Hispanic</td>\n",
       "      <td>1</td>\n",
       "      <td>Low</td>\n",
       "      <td>0</td>\n",
       "      <td>All</td>\n",
       "    </tr>\n",
       "  </tbody>\n",
       "</table>\n",
       "<p>6172 rows × 6 columns</p>\n",
       "</div>"
      ],
      "text/plain": [
       "         sex              race  two_year_recid score_text  high_risk  all\n",
       "0       Male             Other               0        Low          0  All\n",
       "1       Male  African-American               1        Low          0  All\n",
       "2       Male  African-American               1        Low          0  All\n",
       "5       Male             Other               0        Low          0  All\n",
       "6       Male         Caucasian               1     Medium          1  All\n",
       "...      ...               ...             ...        ...        ...  ...\n",
       "7209    Male  African-American               0     Medium          1  All\n",
       "7210    Male  African-American               0        Low          0  All\n",
       "7211    Male             Other               0        Low          0  All\n",
       "7212  Female  African-American               0        Low          0  All\n",
       "7213  Female          Hispanic               1        Low          0  All\n",
       "\n",
       "[6172 rows x 6 columns]"
      ]
     },
     "execution_count": 5,
     "metadata": {},
     "output_type": "execute_result"
    }
   ],
   "source": [
    "#code score_text into high_risk\n",
    "sdf['high_risk'] = sdf['score_text'].apply(lambda score: 0 if score == 'Low' else 1) \n",
    "\n",
    "sdf['all'] = sdf['score_text'].apply(lambda x: 'All') #need this for groupby object later\n",
    "sdf"
   ]
  },
  {
   "cell_type": "code",
   "execution_count": 6,
   "metadata": {},
   "outputs": [],
   "source": [
    "def crosstab(df):\n",
    "    return pd.crosstab(df.high_risk, df.two_year_recid, margins=True)"
   ]
  },
  {
   "cell_type": "code",
   "execution_count": 7,
   "metadata": {},
   "outputs": [],
   "source": [
    "def false_positive(cross_table, label):\n",
    "    # FP / (FP + TN)\n",
    "    return cross_table.loc[(label, 1), 0]/ cross_table.loc[(label, 'All'), 0]"
   ]
  },
  {
   "cell_type": "code",
   "execution_count": 8,
   "metadata": {},
   "outputs": [],
   "source": [
    "def true_positive(cross_table, label):\n",
    "    # TP / (TP + FN)\n",
    "    return cross_table.loc[(label, 1), 1] / cross_table.loc[(label, 'All'), 1]"
   ]
  },
  {
   "cell_type": "code",
   "execution_count": 9,
   "metadata": {},
   "outputs": [],
   "source": [
    "def true_negative(cross_table, label):\n",
    "    # TN / (TN + FP)\n",
    "    return cross_table.loc[(label, 0), 0] / cross_table.loc[(label, 'All'), 0]"
   ]
  },
  {
   "cell_type": "code",
   "execution_count": 10,
   "metadata": {},
   "outputs": [],
   "source": [
    "def false_negative(cross_table, label):\n",
    "    # FN / (FN + TP)\n",
    "    return cross_table.loc[(label, 0), 1] / cross_table.loc[(label, 'All'), 1]"
   ]
  },
  {
   "cell_type": "code",
   "execution_count": 11,
   "metadata": {},
   "outputs": [],
   "source": [
    "#correct?\n",
    "#using bayes theorem - ish\n",
    "def p_recid_g_high(cross_table, label):\n",
    "    return cross_table.loc[(label, 1), 1] / cross_table.loc[(label, 1), 'All']"
   ]
  },
  {
   "cell_type": "code",
   "execution_count": 12,
   "metadata": {},
   "outputs": [],
   "source": [
    "groupobj = [sdf.groupby('all'), sdf.groupby('sex'), sdf.groupby('race')]"
   ]
  },
  {
   "cell_type": "code",
   "execution_count": 13,
   "metadata": {},
   "outputs": [
    {
     "data": {
      "text/plain": [
       "[two_year_recid     0     1   All\n",
       " all high_risk                   \n",
       " All 0           2345  1076  3421\n",
       "     1           1018  1733  2751\n",
       "     All         3363  2809  6172,\n",
       " two_year_recid       0     1   All\n",
       " sex    high_risk                  \n",
       " Female 0           532   167   699\n",
       "        1           230   246   476\n",
       "        All         762   413  1175\n",
       " Male   0          1813   909  2722\n",
       "        1           788  1487  2275\n",
       "        All        2601  2396  4997,\n",
       " two_year_recid                 0     1   All\n",
       " race             high_risk                  \n",
       " African-American 0           873   473  1346\n",
       "                  1           641  1188  1829\n",
       "                  All        1514  1661  3175\n",
       " Asian            0            21     3    24\n",
       "                  1             2     5     7\n",
       "                  All          23     8    31\n",
       " Caucasian        0           999   408  1407\n",
       "                  1           282   414   696\n",
       "                  All        1281   822  2103\n",
       " Hispanic         0           258   110   368\n",
       "                  1            62    79   141\n",
       "                  All         320   189   509\n",
       " Native American  0             3     0     3\n",
       "                  1             3     5     8\n",
       "                  All           6     5    11\n",
       " Other            0           191    82   273\n",
       "                  1            28    42    70\n",
       "                  All         219   124   343]"
      ]
     },
     "execution_count": 13,
     "metadata": {},
     "output_type": "execute_result"
    }
   ],
   "source": [
    "cross_tables = [group.apply(crosstab) for group in groupobj]\n",
    "cross_tables"
   ]
  },
  {
   "cell_type": "code",
   "execution_count": 14,
   "metadata": {},
   "outputs": [
    {
     "data": {
      "text/plain": [
       "{'false_positive': {'All': 0.3027,\n",
       "  'Female': 0.3018,\n",
       "  'Male': 0.303,\n",
       "  'African-American': 0.4234,\n",
       "  'Caucasian': 0.2201},\n",
       " 'false_negative': {'All': 0.3831,\n",
       "  'Female': 0.4044,\n",
       "  'Male': 0.3794,\n",
       "  'African-American': 0.2848,\n",
       "  'Caucasian': 0.4964},\n",
       " 'true_positive': {'All': 0.6169,\n",
       "  'Female': 0.5956,\n",
       "  'Male': 0.6206,\n",
       "  'African-American': 0.7152,\n",
       "  'Caucasian': 0.5036},\n",
       " 'true_negative': {'All': 0.6973,\n",
       "  'Female': 0.6982,\n",
       "  'Male': 0.697,\n",
       "  'African-American': 0.5766,\n",
       "  'Caucasian': 0.7799},\n",
       " 'p_recid_g_high': {'All': 0.63,\n",
       "  'Female': 0.5168,\n",
       "  'Male': 0.6536,\n",
       "  'African-American': 0.6495,\n",
       "  'Caucasian': 0.5948}}"
      ]
     },
     "execution_count": 14,
     "metadata": {},
     "output_type": "execute_result"
    }
   ],
   "source": [
    "functions = [false_positive, false_negative, true_positive, true_negative, p_recid_g_high]\n",
    "d = {}\n",
    "for function in functions:\n",
    "    inner_dict = {}\n",
    "    for sort, table in zip(groupobj, cross_tables):\n",
    "        for group in sort.groups:\n",
    "            if not group in ['Asian', 'Hispanic', 'Native American', 'Other']:\n",
    "                inner_dict[str(group)] = round(function(table, str(group)), 4)\n",
    "    d[function.__name__] = inner_dict\n",
    "d"
   ]
  }
 ],
 "metadata": {
  "kernelspec": {
   "display_name": "Python 3",
   "language": "python",
   "name": "python3"
  },
  "language_info": {
   "codemirror_mode": {
    "name": "ipython",
    "version": 3
   },
   "file_extension": ".py",
   "mimetype": "text/x-python",
   "name": "python",
   "nbconvert_exporter": "python",
   "pygments_lexer": "ipython3",
   "version": "3.7.4"
  }
 },
 "nbformat": 4,
 "nbformat_minor": 4
}
