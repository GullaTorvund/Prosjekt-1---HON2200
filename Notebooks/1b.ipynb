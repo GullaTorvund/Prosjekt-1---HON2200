{
 "cells": [
  {
   "cell_type": "code",
   "execution_count": 1,
   "metadata": {},
   "outputs": [],
   "source": [
    "import pandas as pd\n",
    "import matplotlib.pyplot as plt"
   ]
  },
  {
   "cell_type": "code",
   "execution_count": 2,
   "metadata": {},
   "outputs": [],
   "source": [
    "#laster inn data og kvitter oss med noe \n",
    "data = pd.read_csv(\"..//Data/compas-scores-two-years.csv\")\n",
    "data = data[data[\"days_b_screening_arrest\"] <= 30]\n",
    "data = data[data[\"days_b_screening_arrest\"] >= -30]"
   ]
  },
  {
   "cell_type": "code",
   "execution_count": 3,
   "metadata": {},
   "outputs": [],
   "source": [
    "df = pd.DataFrame({\n",
    "    \"kvinne\": data.sex == \"Female\",\n",
    "    \"hvit\": data.race == \"Caucasian\",\n",
    "    \"svart\": data.race == \"African-American\",\n",
    "    \"tilbakefall\": data.two_year_recid == 1,\n",
    "    \"predikert_tilbakefall\": data.score_text != \"Low\",\n",
    "    \"lav_score\": data.score_text == \"Low\",\n",
    "    \"medium_score\": data.score_text == \"Medium\",\n",
    "    \"høy_score\": data.score_text == \"High\",})"
   ]
  },
  {
   "cell_type": "code",
   "execution_count": 51,
   "metadata": {},
   "outputs": [],
   "source": [
    "def false_positive(gruppe):\n",
    "    # FP / (FP + TN)\n",
    "    return f'{len(df[gruppe & df.predikert_tilbakefall & ~df.tilbakefall]) / len(df[gruppe & ~df.tilbakefall]) * 100:.1f}'\n",
    "\n",
    "def true_positive(gruppe):\n",
    "    # TP / (TP + FN)\n",
    "    return f'{len(df[gruppe & df.predikert_tilbakefall & df.tilbakefall]) / len(df[gruppe & df.tilbakefall]) * 100:.1f}'\n",
    "\n",
    "def false_negative(gruppe):\n",
    "    # FN / (FN + TP)\n",
    "    return f'{len(df[gruppe & ~df.predikert_tilbakefall & df.tilbakefall]) / len(df[gruppe & df.tilbakefall]) * 100:.1f}'\n",
    "\n",
    "def true_negative(gruppe):\n",
    "    # TN / (TN + FP)\n",
    "    return f'{len(df[gruppe & ~df.predikert_tilbakefall & ~df.tilbakefall]) / len(df[gruppe & ~df.tilbakefall]) * 100:.1f}'\n",
    "\n",
    "def p_recid_g_high(gruppe):\n",
    "    return f'{len(df[gruppe & df.predikert_tilbakefall & df.tilbakefall]) / len(df[gruppe & df.predikert_tilbakefall]) * 100:.1f}'"
   ]
  },
  {
   "cell_type": "code",
   "execution_count": 61,
   "metadata": {},
   "outputs": [
    {
     "data": {
      "text/plain": [
       "'30.3'"
      ]
     },
     "execution_count": 61,
     "metadata": {},
     "output_type": "execute_result"
    }
   ],
   "source": [
    "all_people = df.index > -1"
   ]
  },
  {
   "cell_type": "code",
   "execution_count": 64,
   "metadata": {},
   "outputs": [
    {
     "data": {
      "text/plain": [
       "{'All': {'false_positive': '30.3',\n",
       "  'false_negative': '38.3',\n",
       "  'true_positive': '61.7',\n",
       "  'true_negative': '69.7',\n",
       "  'p_recid_g_high': '63.0'},\n",
       " 'Kvinner': {'false_positive': '30.2',\n",
       "  'false_negative': '40.4',\n",
       "  'true_positive': '59.6',\n",
       "  'true_negative': '69.8',\n",
       "  'p_recid_g_high': '51.7'},\n",
       " 'Menn': {'false_positive': '30.3',\n",
       "  'false_negative': '37.9',\n",
       "  'true_positive': '62.1',\n",
       "  'true_negative': '69.7',\n",
       "  'p_recid_g_high': '65.4'},\n",
       " 'Hvite': {'false_positive': '22.0',\n",
       "  'false_negative': '49.6',\n",
       "  'true_positive': '50.4',\n",
       "  'true_negative': '78.0',\n",
       "  'p_recid_g_high': '59.5'},\n",
       " 'Svarte': {'false_positive': '42.3',\n",
       "  'false_negative': '28.5',\n",
       "  'true_positive': '71.5',\n",
       "  'true_negative': '57.7',\n",
       "  'p_recid_g_high': '65.0'}}"
      ]
     },
     "execution_count": 64,
     "metadata": {},
     "output_type": "execute_result"
    }
   ],
   "source": [
    "functions = [false_positive, false_negative, true_positive, true_negative, p_recid_g_high]\n",
    "grouplist = [all_people, df.kvinne, ~df.kvinne, df.hvit, df.svart]\n",
    "namelist = ['All', 'Kvinner', 'Menn', 'Hvite', 'Svarte']\n",
    "d = {}\n",
    "for name, group in zip(namelist, grouplist):\n",
    "    inner_dict = {}\n",
    "    for function in functions:\n",
    "        inner_dict[function.__name__] = function(group)\n",
    "    d[name] = inner_dict\n",
    "d"
   ]
  }
 ],
 "metadata": {
  "kernelspec": {
   "display_name": "Python 3",
   "language": "python",
   "name": "python3"
  },
  "language_info": {
   "codemirror_mode": {
    "name": "ipython",
    "version": 3
   },
   "file_extension": ".py",
   "mimetype": "text/x-python",
   "name": "python",
   "nbconvert_exporter": "python",
   "pygments_lexer": "ipython3",
   "version": "3.8.5"
  }
 },
 "nbformat": 4,
 "nbformat_minor": 4
}
