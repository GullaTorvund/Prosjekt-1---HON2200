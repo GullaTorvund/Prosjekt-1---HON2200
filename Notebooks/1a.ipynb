{
 "cells": [
  {
   "cell_type": "markdown",
   "metadata": {},
   "source": [
    "### 1a"
   ]
  },
  {
   "cell_type": "code",
   "execution_count": 1,
   "metadata": {},
   "outputs": [],
   "source": [
    "import numpy as np\n",
    "import pandas as pd\n",
    "import matplotlib.pyplot as plt"
   ]
  },
  {
   "cell_type": "code",
   "execution_count": 92,
   "metadata": {},
   "outputs": [],
   "source": [
    "#laster inn data og kvitter oss med noe \n",
    "data = pd.read_csv(\"..//Data/compas-scores-two-years.csv\")\n",
    "data = data[data[\"days_b_screening_arrest\"] <= 30]\n",
    "data = data[data[\"days_b_screening_arrest\"] >= -30]"
   ]
  },
  {
   "cell_type": "markdown",
   "metadata": {},
   "source": [
    "a) Les inn og forstå dataene. Se hvilke kolonner som finnes og fjern kolonnene dere ikke kommer til å trenge til plottingen eller analysen. Plot:\n",
    "\n",
    "### hvor ofte ulike grupperinger av mennesker(kvinner, menn, hvite og svarte) gjentar forbrytelser og blir predikert å begå straffbare handlinger i framtiden (som andel, ikke totalt antall)."
   ]
  },
  {
   "cell_type": "code",
   "execution_count": 66,
   "metadata": {},
   "outputs": [],
   "source": [
    "df = pd.DataFrame({\n",
    "    \"kvinne\": data.sex == \"Female\",\n",
    "    \"hvit\": data.race == \"Caucasian\",\n",
    "    \"svart\": data.race == \"African-American\",\n",
    "    \"tilbakefall\": data.two_year_recid == 1,\n",
    "    \"predikert_tilbakefall\": data.score_text != \"Low\",\n",
    "    \"lav_score\": data.score_text == \"Low\",\n",
    "    \"medium_score\": data.score_text == \"Medium\",\n",
    "    \"høy_score\": data.score_text == \"High\",})"
   ]
  },
  {
   "cell_type": "code",
   "execution_count": 87,
   "metadata": {},
   "outputs": [],
   "source": [
    "def prosentandel(fokus, gruppe):\n",
    "    return float(f'{len(df[fokus & gruppe]) / len(df[gruppe]) * 100:.1f}')"
   ]
  },
  {
   "cell_type": "code",
   "execution_count": 93,
   "metadata": {},
   "outputs": [
    {
     "name": "stdout",
     "output_type": "stream",
     "text": [
      "39.1\n"
     ]
    }
   ],
   "source": [
    "print(prosentandel(df.tilbakefall,df.hvit))"
   ]
  },
  {
   "cell_type": "code",
   "execution_count": 94,
   "metadata": {},
   "outputs": [
    {
     "data": {
      "text/html": [
       "<div>\n",
       "<style scoped>\n",
       "    .dataframe tbody tr th:only-of-type {\n",
       "        vertical-align: middle;\n",
       "    }\n",
       "\n",
       "    .dataframe tbody tr th {\n",
       "        vertical-align: top;\n",
       "    }\n",
       "\n",
       "    .dataframe thead th {\n",
       "        text-align: right;\n",
       "    }\n",
       "</style>\n",
       "<table border=\"1\" class=\"dataframe\">\n",
       "  <thead>\n",
       "    <tr style=\"text-align: right;\">\n",
       "      <th></th>\n",
       "      <th>gjentar forbrytelser (%)</th>\n",
       "      <th>predikert (%)</th>\n",
       "    </tr>\n",
       "  </thead>\n",
       "  <tbody>\n",
       "    <tr>\n",
       "      <th>Kvinner</th>\n",
       "      <td>35.1</td>\n",
       "      <td>40.5</td>\n",
       "    </tr>\n",
       "    <tr>\n",
       "      <th>Menn</th>\n",
       "      <td>47.9</td>\n",
       "      <td>45.5</td>\n",
       "    </tr>\n",
       "    <tr>\n",
       "      <th>Hvite</th>\n",
       "      <td>39.1</td>\n",
       "      <td>33.1</td>\n",
       "    </tr>\n",
       "    <tr>\n",
       "      <th>Svarte</th>\n",
       "      <td>52.3</td>\n",
       "      <td>57.6</td>\n",
       "    </tr>\n",
       "  </tbody>\n",
       "</table>\n",
       "</div>"
      ],
      "text/plain": [
       "         gjentar forbrytelser (%)  predikert (%)\n",
       "Kvinner                      35.1           40.5\n",
       "Menn                         47.9           45.5\n",
       "Hvite                        39.1           33.1\n",
       "Svarte                       52.3           57.6"
      ]
     },
     "metadata": {},
     "output_type": "display_data"
    }
   ],
   "source": [
    "ls_tilbakefall = []; ls_predikert = []\n",
    "\n",
    "for gruppe in [df.kvinne, ~df.kvinne, df.hvit, df.svart]:\n",
    "    ls_tilbakefall.append(prosentandel(df.tilbakefall, gruppe))\n",
    "    ls_predikert.append(prosentandel(df.predikert_tilbakefall, gruppe))\n",
    "\n",
    "tabell = pd.DataFrame({\n",
    "    \"gjentar forbrytelser (%)\": ls_tilbakefall,\n",
    "    \"predikert (%)\": ls_predikert,\n",
    "    })\n",
    "tabell.index = ['Kvinner', 'Menn', 'Hvite', 'Svarte']\n",
    "display(tabell)"
   ]
  },
  {
   "cell_type": "code",
   "execution_count": 97,
   "metadata": {},
   "outputs": [
    {
     "data": {
      "text/html": [
       "<div>\n",
       "<style scoped>\n",
       "    .dataframe tbody tr th:only-of-type {\n",
       "        vertical-align: middle;\n",
       "    }\n",
       "\n",
       "    .dataframe tbody tr th {\n",
       "        vertical-align: top;\n",
       "    }\n",
       "\n",
       "    .dataframe thead th {\n",
       "        text-align: right;\n",
       "    }\n",
       "</style>\n",
       "<table border=\"1\" class=\"dataframe\">\n",
       "  <thead>\n",
       "    <tr style=\"text-align: right;\">\n",
       "      <th></th>\n",
       "      <th>kvinner</th>\n",
       "      <th>menn</th>\n",
       "      <th>hvite</th>\n",
       "      <th>svarte</th>\n",
       "    </tr>\n",
       "  </thead>\n",
       "  <tbody>\n",
       "    <tr>\n",
       "      <th>Residiverer</th>\n",
       "      <td>35.1</td>\n",
       "      <td>47.9</td>\n",
       "      <td>39.1</td>\n",
       "      <td>52.3</td>\n",
       "    </tr>\n",
       "    <tr>\n",
       "      <th>Predikert</th>\n",
       "      <td>40.5</td>\n",
       "      <td>45.5</td>\n",
       "      <td>33.1</td>\n",
       "      <td>57.6</td>\n",
       "    </tr>\n",
       "  </tbody>\n",
       "</table>\n",
       "</div>"
      ],
      "text/plain": [
       "             kvinner  menn  hvite  svarte\n",
       "Residiverer     35.1  47.9   39.1    52.3\n",
       "Predikert       40.5  45.5   33.1    57.6"
      ]
     },
     "metadata": {},
     "output_type": "display_data"
    }
   ],
   "source": [
    "ls_kvinner = []; ls_menn = []; ls_hvite = []; ls_svarte = []\n",
    "\n",
    "for fokus in [df.tilbakefall, df.predikert_tilbakefall]:\n",
    "    ls_kvinner.append(prosentandel(fokus, df.kvinne))\n",
    "    ls_menn.append(prosentandel(fokus, ~df.kvinne))\n",
    "    ls_hvite.append(prosentandel(fokus, df.hvit))\n",
    "    ls_svarte.append(prosentandel(fokus, df.svart))\n",
    "\n",
    "tabell = pd.DataFrame({\n",
    "    \"kvinner\": ls_kvinner,\n",
    "    \"menn\": ls_menn,\n",
    "    \"hvite\": ls_hvite,\n",
    "    \"svarte\": ls_svarte,\n",
    "    })\n",
    "tabell.index = ['Residiverer', 'Predikert']\n",
    "display(tabell)"
   ]
  },
  {
   "cell_type": "code",
   "execution_count": 111,
   "metadata": {},
   "outputs": [
    {
     "data": {
      "text/plain": [
       "<matplotlib.axes._subplots.AxesSubplot at 0x7fb813b8d700>"
      ]
     },
     "execution_count": 111,
     "metadata": {},
     "output_type": "execute_result"
    },
    {
     "data": {
      "image/png": "[encoded data removed]",
      "text/plain": [
       "<Figure size 432x288 with 1 Axes>"
      ]
     },
     "metadata": {
      "needs_background": "light"
     },
     "output_type": "display_data"
    }
   ],
   "source": [
    "tabell.plot.bar(colormap='Set3')"
   ]
  },
  {
   "cell_type": "markdown",
   "metadata": {},
   "source": [
    "\n",
    "### hvor ofte ulike grupper fikk ulike risikoskårer.\n"
   ]
  },
  {
   "cell_type": "code",
   "execution_count": 112,
   "metadata": {},
   "outputs": [
    {
     "data": {
      "text/html": [
       "<div>\n",
       "<style scoped>\n",
       "    .dataframe tbody tr th:only-of-type {\n",
       "        vertical-align: middle;\n",
       "    }\n",
       "\n",
       "    .dataframe tbody tr th {\n",
       "        vertical-align: top;\n",
       "    }\n",
       "\n",
       "    .dataframe thead th {\n",
       "        text-align: right;\n",
       "    }\n",
       "</style>\n",
       "<table border=\"1\" class=\"dataframe\">\n",
       "  <thead>\n",
       "    <tr style=\"text-align: right;\">\n",
       "      <th></th>\n",
       "      <th>kvinner</th>\n",
       "      <th>menn</th>\n",
       "      <th>hvite</th>\n",
       "      <th>svarte</th>\n",
       "    </tr>\n",
       "  </thead>\n",
       "  <tbody>\n",
       "    <tr>\n",
       "      <th>Lav score</th>\n",
       "      <td>59.5</td>\n",
       "      <td>54.5</td>\n",
       "      <td>66.9</td>\n",
       "      <td>42.4</td>\n",
       "    </tr>\n",
       "    <tr>\n",
       "      <th>Medium score</th>\n",
       "      <td>27.7</td>\n",
       "      <td>25.7</td>\n",
       "      <td>22.5</td>\n",
       "      <td>31.0</td>\n",
       "    </tr>\n",
       "    <tr>\n",
       "      <th>Høy score</th>\n",
       "      <td>12.9</td>\n",
       "      <td>19.9</td>\n",
       "      <td>10.6</td>\n",
       "      <td>26.6</td>\n",
       "    </tr>\n",
       "  </tbody>\n",
       "</table>\n",
       "</div>"
      ],
      "text/plain": [
       "              kvinner  menn  hvite  svarte\n",
       "Lav score        59.5  54.5   66.9    42.4\n",
       "Medium score     27.7  25.7   22.5    31.0\n",
       "Høy score        12.9  19.9   10.6    26.6"
      ]
     },
     "metadata": {},
     "output_type": "display_data"
    },
    {
     "data": {
      "text/plain": [
       "Text(0.5, 1.0, 'Fordeling av risiko-score blant gruppene')"
      ]
     },
     "execution_count": 112,
     "metadata": {},
     "output_type": "execute_result"
    },
    {
     "data": {
      "image/png": "[encoded data removed]",
      "text/plain": [
       "<Figure size 432x288 with 1 Axes>"
      ]
     },
     "metadata": {
      "needs_background": "light"
     },
     "output_type": "display_data"
    }
   ],
   "source": [
    "ls_kvinner = []; ls_menn = []; ls_hvite = []; ls_svarte = []\n",
    "\n",
    "for fokus in [df.lav_score, df.medium_score, df.høy_score]:\n",
    "    ls_kvinner.append(prosentandel(fokus, df.kvinne))\n",
    "    ls_menn.append(prosentandel(fokus, ~df.kvinne))\n",
    "    ls_hvite.append(prosentandel(fokus, df.hvit))\n",
    "    ls_svarte.append(prosentandel(fokus, df.svart))\n",
    "\n",
    "tabell = pd.DataFrame({\n",
    "    \"kvinner\": ls_kvinner,\n",
    "    \"menn\": ls_menn,\n",
    "    \"hvite\": ls_hvite,\n",
    "    \"svarte\": ls_svarte,\n",
    "    })\n",
    "tabell.index = ['Lav score', 'Medium score', 'Høy score']\n",
    "display(tabell)\n",
    "ax = tabell.plot.bar(colormap='Set3')\n",
    "ax.set_ylabel('Prosentandel')\n",
    "ax.set_title('Fordeling av risiko-score blant gruppene')"
   ]
  },
  {
   "cell_type": "markdown",
   "metadata": {},
   "source": [
    "\n",
    "### hvor ofte de som begikk nye straffbare hadlinger (og de som ikke gjorde det) fikk ulike risikoskårer, og hvordan dette ser ut hvis du kun ser på hvite eller svarte."
   ]
  },
  {
   "cell_type": "code",
   "execution_count": 128,
   "metadata": {},
   "outputs": [
    {
     "data": {
      "text/html": [
       "<div>\n",
       "<style scoped>\n",
       "    .dataframe tbody tr th:only-of-type {\n",
       "        vertical-align: middle;\n",
       "    }\n",
       "\n",
       "    .dataframe tbody tr th {\n",
       "        vertical-align: top;\n",
       "    }\n",
       "\n",
       "    .dataframe thead th {\n",
       "        text-align: right;\n",
       "    }\n",
       "</style>\n",
       "<table border=\"1\" class=\"dataframe\">\n",
       "  <thead>\n",
       "    <tr style=\"text-align: right;\">\n",
       "      <th></th>\n",
       "      <th>Tilbakefallende</th>\n",
       "      <th>Ikke-tilbakefallende</th>\n",
       "    </tr>\n",
       "  </thead>\n",
       "  <tbody>\n",
       "    <tr>\n",
       "      <th>Lav score</th>\n",
       "      <td>38.3</td>\n",
       "      <td>69.7</td>\n",
       "    </tr>\n",
       "    <tr>\n",
       "      <th>Medium score</th>\n",
       "      <td>31.5</td>\n",
       "      <td>21.4</td>\n",
       "    </tr>\n",
       "    <tr>\n",
       "      <th>Høy score</th>\n",
       "      <td>30.2</td>\n",
       "      <td>8.8</td>\n",
       "    </tr>\n",
       "  </tbody>\n",
       "</table>\n",
       "</div>"
      ],
      "text/plain": [
       "              Tilbakefallende  Ikke-tilbakefallende\n",
       "Lav score                38.3                  69.7\n",
       "Medium score             31.5                  21.4\n",
       "Høy score                30.2                   8.8"
      ]
     },
     "metadata": {},
     "output_type": "display_data"
    },
    {
     "data": {
      "text/html": [
       "<div>\n",
       "<style scoped>\n",
       "    .dataframe tbody tr th:only-of-type {\n",
       "        vertical-align: middle;\n",
       "    }\n",
       "\n",
       "    .dataframe tbody tr th {\n",
       "        vertical-align: top;\n",
       "    }\n",
       "\n",
       "    .dataframe thead th {\n",
       "        text-align: right;\n",
       "    }\n",
       "</style>\n",
       "<table border=\"1\" class=\"dataframe\">\n",
       "  <thead>\n",
       "    <tr style=\"text-align: right;\">\n",
       "      <th></th>\n",
       "      <th>Tilbakefallende hvite</th>\n",
       "      <th>Tilbakefallende svarte</th>\n",
       "      <th>Ikke-tilbakefallende hvite</th>\n",
       "      <th>Ikke-tilbakefallende svarte</th>\n",
       "    </tr>\n",
       "  </thead>\n",
       "  <tbody>\n",
       "    <tr>\n",
       "      <th>Lav score</th>\n",
       "      <td>49.6</td>\n",
       "      <td>28.5</td>\n",
       "      <td>78.0</td>\n",
       "      <td>57.7</td>\n",
       "    </tr>\n",
       "    <tr>\n",
       "      <th>Medium score</th>\n",
       "      <td>30.7</td>\n",
       "      <td>33.4</td>\n",
       "      <td>17.3</td>\n",
       "      <td>28.4</td>\n",
       "    </tr>\n",
       "    <tr>\n",
       "      <th>Høy score</th>\n",
       "      <td>19.7</td>\n",
       "      <td>38.2</td>\n",
       "      <td>4.8</td>\n",
       "      <td>13.9</td>\n",
       "    </tr>\n",
       "  </tbody>\n",
       "</table>\n",
       "</div>"
      ],
      "text/plain": [
       "              Tilbakefallende hvite  Tilbakefallende svarte  \\\n",
       "Lav score                      49.6                    28.5   \n",
       "Medium score                   30.7                    33.4   \n",
       "Høy score                      19.7                    38.2   \n",
       "\n",
       "              Ikke-tilbakefallende hvite  Ikke-tilbakefallende svarte  \n",
       "Lav score                           78.0                         57.7  \n",
       "Medium score                        17.3                         28.4  \n",
       "Høy score                            4.8                         13.9  "
      ]
     },
     "metadata": {},
     "output_type": "display_data"
    },
    {
     "data": {
      "text/plain": [
       "Text(0.5, 1.0, 'Fordeling av risiko-score blant tilbakefallende og ikke-tilbakefallende hvite og svarte')"
      ]
     },
     "execution_count": 128,
     "metadata": {},
     "output_type": "execute_result"
    },
    {
     "data": {
      "image/png": "[encoded data removed]",
      "text/plain": [
       "<Figure size 432x288 with 1 Axes>"
      ]
     },
     "metadata": {
      "needs_background": "light"
     },
     "output_type": "display_data"
    },
    {
     "data": {
      "image/png": "[encoded data removed]",
      "text/plain": [
       "<Figure size 432x288 with 1 Axes>"
      ]
     },
     "metadata": {
      "needs_background": "light"
     },
     "output_type": "display_data"
    }
   ],
   "source": [
    "recid_alle = []; recid_hvite = []; recid_svarte = []\n",
    "ikkerecid_alle = []; ikkerecid_hvite = []; ikkerecid_svarte = []\n",
    "\n",
    "for fokus in [df.lav_score, df.medium_score, df.høy_score]:\n",
    "    recid_alle.append(prosentandel(fokus, df.tilbakefall))\n",
    "    recid_hvite.append(prosentandel(fokus, df.hvit & df.tilbakefall))\n",
    "    recid_svarte.append(prosentandel(fokus, df.svart & df.tilbakefall))\n",
    "    ikkerecid_alle.append(prosentandel(fokus, ~df.tilbakefall))\n",
    "    ikkerecid_hvite.append(prosentandel(fokus, df.hvit & ~df.tilbakefall))\n",
    "    ikkerecid_svarte.append(prosentandel(fokus, df.svart & ~df.tilbakefall))\n",
    "\n",
    "tabellrecid = pd.DataFrame({\n",
    "    \"Tilbakefallende\": recid_alle,\n",
    "    \"Ikke-tilbakefallende\": ikkerecid_alle,\n",
    "    })\n",
    "tabellrace = pd.DataFrame({\n",
    "    \"Tilbakefallende hvite\": recid_hvite,\n",
    "    \"Tilbakefallende svarte\": recid_svarte,\n",
    "    \"Ikke-tilbakefallende hvite\": ikkerecid_hvite,\n",
    "    \"Ikke-tilbakefallende svarte\": ikkerecid_svarte,\n",
    "    })\n",
    "\n",
    "tabellrecid.index = ['Lav score', 'Medium score', 'Høy score']\n",
    "tabellrace.index = ['Lav score', 'Medium score', 'Høy score']\n",
    "display(tabellrecid, tabellrace)\n",
    "\n",
    "ax1 = tabellrecid.plot.bar(colormap='Set3')\n",
    "ax1.set_ylabel('Prosentandel')\n",
    "ax1.set_title('Fordeling av risiko-score for tilbakefallende og ikke-tilbakefallende')\n",
    "ax2 = tabellrace.plot.bar(colormap='Set3')\n",
    "ax2.set_ylabel('Prosentandel')\n",
    "ax2.set_title('Fordeling av risiko-score blant tilbakefallende og ikke-tilbakefallende hvite og svarte')"
   ]
  },
  {
   "cell_type": "code",
   "execution_count": null,
   "metadata": {},
   "outputs": [],
   "source": []
  }
 ],
 "metadata": {
  "kernelspec": {
   "display_name": "Python 3",
   "language": "python",
   "name": "python3"
  },
  "language_info": {
   "codemirror_mode": {
    "name": "ipython",
    "version": 3
   },
   "file_extension": ".py",
   "mimetype": "text/x-python",
   "name": "python",
   "nbconvert_exporter": "python",
   "pygments_lexer": "ipython3",
   "version": "3.8.3"
  }
 },
 "nbformat": 4,
 "nbformat_minor": 4
}
