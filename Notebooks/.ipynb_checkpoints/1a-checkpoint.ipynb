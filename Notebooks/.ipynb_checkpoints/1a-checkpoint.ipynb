{
 "cells": [
  {
   "cell_type": "markdown",
   "metadata": {},
   "source": [
    "### 1a\n",
    "a) Les inn og forstå dataene. Se hvilke kolonner som finnes og fjern kolonnene dere ikke kommer til å trenge til plottingen eller analysen. Plot:"
   ]
  },
  {
   "cell_type": "code",
   "execution_count": 211,
   "metadata": {},
   "outputs": [],
   "source": [
    "import numpy as np\n",
    "import pandas as pd\n",
    "import matplotlib.pyplot as plt"
   ]
  },
  {
   "cell_type": "code",
   "execution_count": 212,
   "metadata": {},
   "outputs": [],
   "source": [
    "#laster inn data og kvitter oss med noe \n",
    "data = pd.read_csv(\"..//Data/compas-scores-two-years.csv\")\n",
    "data = data[data[\"days_b_screening_arrest\"] <= 30]\n",
    "data = data[data[\"days_b_screening_arrest\"] >= -30]"
   ]
  },
  {
   "cell_type": "code",
   "execution_count": 213,
   "metadata": {},
   "outputs": [],
   "source": [
    "df = pd.DataFrame({\n",
    "    \"kvinne\": data.sex == \"Female\",\n",
    "    \"hvit\": data.race == \"Caucasian\",\n",
    "    \"svart\": data.race == \"African-American\",\n",
    "    \"tilbakefall\": data.two_year_recid == 1,\n",
    "    \"predikert_tilbakefall\": data.score_text != \"Low\",\n",
    "    \"lav_score\": data.score_text == \"Low\",\n",
    "    \"medium_score\": data.score_text == \"Medium\",\n",
    "    \"høy_score\": data.score_text == \"High\",})"
   ]
  },
  {
   "cell_type": "code",
   "execution_count": 215,
   "metadata": {},
   "outputs": [],
   "source": [
    "def prosentandel(fokus, gruppe):\n",
    "    return float(f'{len(df[fokus & gruppe]) / len(df[gruppe]) * 100:.1f}')\n",
    "\n",
    "def barplott(fokusliste, gruppeliste, kol_navn, rad_navn, tittel, ha_tabell = 'Ja'):\n",
    "    tabell = pd.DataFrame(columns=kol_navn)\n",
    "    \n",
    "    for i,fokus in enumerate(fokusliste):\n",
    "        tabell.loc[i] = [prosentandel(fokus, gruppe) for gruppe in gruppeliste]\n",
    "    tabell.index = rad_navn\n",
    "    ax = tabell.plot.bar(colormap='Set3', figsize=(8,6), rot=0)\n",
    "    ax.set_ylabel('Prosentandel')\n",
    "    ax.set_title(tittel)\n",
    "    \n",
    "    if ha_tabell == 'Ja':\n",
    "        display(tabell)         "
   ]
  },
  {
   "cell_type": "markdown",
   "metadata": {},
   "source": [
    "\n",
    "### hvor ofte ulike grupperinger av mennesker(kvinner, menn, hvite og svarte) gjentar forbrytelser og blir predikert å begå straffbare handlinger i framtiden (som andel, ikke totalt antall)."
   ]
  },
  {
   "cell_type": "code",
   "execution_count": 216,
   "metadata": {},
   "outputs": [
    {
     "data": {
      "text/html": [
       "<div>\n",
       "<style scoped>\n",
       "    .dataframe tbody tr th:only-of-type {\n",
       "        vertical-align: middle;\n",
       "    }\n",
       "\n",
       "    .dataframe tbody tr th {\n",
       "        vertical-align: top;\n",
       "    }\n",
       "\n",
       "    .dataframe thead th {\n",
       "        text-align: right;\n",
       "    }\n",
       "</style>\n",
       "<table border=\"1\" class=\"dataframe\">\n",
       "  <thead>\n",
       "    <tr style=\"text-align: right;\">\n",
       "      <th></th>\n",
       "      <th>Kvinner</th>\n",
       "      <th>Menn</th>\n",
       "      <th>Hvite</th>\n",
       "      <th>Svarte</th>\n",
       "    </tr>\n",
       "  </thead>\n",
       "  <tbody>\n",
       "    <tr>\n",
       "      <th>Tilbakefallende</th>\n",
       "      <td>35.1</td>\n",
       "      <td>47.9</td>\n",
       "      <td>39.1</td>\n",
       "      <td>52.3</td>\n",
       "    </tr>\n",
       "    <tr>\n",
       "      <th>Predikert tilbakefallende</th>\n",
       "      <td>40.5</td>\n",
       "      <td>45.5</td>\n",
       "      <td>33.1</td>\n",
       "      <td>57.6</td>\n",
       "    </tr>\n",
       "  </tbody>\n",
       "</table>\n",
       "</div>"
      ],
      "text/plain": [
       "                           Kvinner  Menn  Hvite  Svarte\n",
       "Tilbakefallende               35.1  47.9   39.1    52.3\n",
       "Predikert tilbakefallende     40.5  45.5   33.1    57.6"
      ]
     },
     "metadata": {},
     "output_type": "display_data"
    },
    {
     "data": {
      "image/png": "[encoded data removed]",
      "text/plain": [
       "<Figure size 576x432 with 1 Axes>"
      ]
     },
     "metadata": {
      "needs_background": "light"
     },
     "output_type": "display_data"
    }
   ],
   "source": [
    "resid_predresid = [df.tilbakefall, df.predikert_tilbakefall]\n",
    "gruppe = [df.kvinne, ~df.kvinne, df.hvit, df.svart]\n",
    "gruppenavn = ['Kvinner', 'Menn', 'Hvite', 'Svarte']\n",
    "resid_predresid_navn = ['Tilbakefallende', 'Predikert tilbakefallende']\n",
    "tittel = 'Fordeling av risiko-score blant gruppene'\n",
    "barplott(resid_predresid, gruppe, gruppenavn, resid_predresid_navn, tittel)"
   ]
  },
  {
   "cell_type": "markdown",
   "metadata": {},
   "source": [
    "\n",
    "### hvor ofte ulike grupper fikk ulike risikoskårer.\n"
   ]
  },
  {
   "cell_type": "code",
   "execution_count": 217,
   "metadata": {},
   "outputs": [
    {
     "data": {
      "text/html": [
       "<div>\n",
       "<style scoped>\n",
       "    .dataframe tbody tr th:only-of-type {\n",
       "        vertical-align: middle;\n",
       "    }\n",
       "\n",
       "    .dataframe tbody tr th {\n",
       "        vertical-align: top;\n",
       "    }\n",
       "\n",
       "    .dataframe thead th {\n",
       "        text-align: right;\n",
       "    }\n",
       "</style>\n",
       "<table border=\"1\" class=\"dataframe\">\n",
       "  <thead>\n",
       "    <tr style=\"text-align: right;\">\n",
       "      <th></th>\n",
       "      <th>Kvinner</th>\n",
       "      <th>Menn</th>\n",
       "      <th>Hvite</th>\n",
       "      <th>Svarte</th>\n",
       "    </tr>\n",
       "  </thead>\n",
       "  <tbody>\n",
       "    <tr>\n",
       "      <th>Lav score</th>\n",
       "      <td>59.5</td>\n",
       "      <td>54.5</td>\n",
       "      <td>66.9</td>\n",
       "      <td>42.4</td>\n",
       "    </tr>\n",
       "    <tr>\n",
       "      <th>Medium score</th>\n",
       "      <td>27.7</td>\n",
       "      <td>25.7</td>\n",
       "      <td>22.5</td>\n",
       "      <td>31.0</td>\n",
       "    </tr>\n",
       "    <tr>\n",
       "      <th>Høy score</th>\n",
       "      <td>12.9</td>\n",
       "      <td>19.9</td>\n",
       "      <td>10.6</td>\n",
       "      <td>26.6</td>\n",
       "    </tr>\n",
       "  </tbody>\n",
       "</table>\n",
       "</div>"
      ],
      "text/plain": [
       "              Kvinner  Menn  Hvite  Svarte\n",
       "Lav score        59.5  54.5   66.9    42.4\n",
       "Medium score     27.7  25.7   22.5    31.0\n",
       "Høy score        12.9  19.9   10.6    26.6"
      ]
     },
     "metadata": {},
     "output_type": "display_data"
    },
    {
     "data": {
      "image/png": "[encoded data removed]",
      "text/plain": [
       "<Figure size 576x432 with 1 Axes>"
      ]
     },
     "metadata": {
      "needs_background": "light"
     },
     "output_type": "display_data"
    }
   ],
   "source": [
    "score = [df.lav_score, df.medium_score, df.høy_score]\n",
    "score_navn = ['Lav score', 'Medium score', 'Høy score']\n",
    "tittel = 'Fordeling av risiko-score blant gruppene'\n",
    "\n",
    "barplott(score, gruppe, gruppenavn, score_navn, tittel)"
   ]
  },
  {
   "cell_type": "markdown",
   "metadata": {},
   "source": [
    "\n",
    "### hvor ofte de som begikk nye straffbare hadlinger (og de som ikke gjorde det) fikk ulike risikoskårer, og hvordan dette ser ut hvis du kun ser på hvite eller svarte."
   ]
  },
  {
   "cell_type": "code",
   "execution_count": 218,
   "metadata": {},
   "outputs": [
    {
     "data": {
      "text/html": [
       "<div>\n",
       "<style scoped>\n",
       "    .dataframe tbody tr th:only-of-type {\n",
       "        vertical-align: middle;\n",
       "    }\n",
       "\n",
       "    .dataframe tbody tr th {\n",
       "        vertical-align: top;\n",
       "    }\n",
       "\n",
       "    .dataframe thead th {\n",
       "        text-align: right;\n",
       "    }\n",
       "</style>\n",
       "<table border=\"1\" class=\"dataframe\">\n",
       "  <thead>\n",
       "    <tr style=\"text-align: right;\">\n",
       "      <th></th>\n",
       "      <th>Tilbakefallende</th>\n",
       "      <th>Ikke-tilbakefallende</th>\n",
       "    </tr>\n",
       "  </thead>\n",
       "  <tbody>\n",
       "    <tr>\n",
       "      <th>Lav score</th>\n",
       "      <td>38.3</td>\n",
       "      <td>69.7</td>\n",
       "    </tr>\n",
       "    <tr>\n",
       "      <th>Medium score</th>\n",
       "      <td>31.5</td>\n",
       "      <td>21.4</td>\n",
       "    </tr>\n",
       "    <tr>\n",
       "      <th>Høy score</th>\n",
       "      <td>30.2</td>\n",
       "      <td>8.8</td>\n",
       "    </tr>\n",
       "  </tbody>\n",
       "</table>\n",
       "</div>"
      ],
      "text/plain": [
       "              Tilbakefallende  Ikke-tilbakefallende\n",
       "Lav score                38.3                  69.7\n",
       "Medium score             31.5                  21.4\n",
       "Høy score                30.2                   8.8"
      ]
     },
     "metadata": {},
     "output_type": "display_data"
    },
    {
     "data": {
      "text/html": [
       "<div>\n",
       "<style scoped>\n",
       "    .dataframe tbody tr th:only-of-type {\n",
       "        vertical-align: middle;\n",
       "    }\n",
       "\n",
       "    .dataframe tbody tr th {\n",
       "        vertical-align: top;\n",
       "    }\n",
       "\n",
       "    .dataframe thead th {\n",
       "        text-align: right;\n",
       "    }\n",
       "</style>\n",
       "<table border=\"1\" class=\"dataframe\">\n",
       "  <thead>\n",
       "    <tr style=\"text-align: right;\">\n",
       "      <th></th>\n",
       "      <th>Tilbakefallende hvite</th>\n",
       "      <th>Tilbakefallende svarte</th>\n",
       "      <th>Ikke-tilbakefallende hvite</th>\n",
       "      <th>Ikke-tilbakefallende svarte</th>\n",
       "    </tr>\n",
       "  </thead>\n",
       "  <tbody>\n",
       "    <tr>\n",
       "      <th>Lav score</th>\n",
       "      <td>49.6</td>\n",
       "      <td>28.5</td>\n",
       "      <td>78.0</td>\n",
       "      <td>57.7</td>\n",
       "    </tr>\n",
       "    <tr>\n",
       "      <th>Medium score</th>\n",
       "      <td>30.7</td>\n",
       "      <td>33.4</td>\n",
       "      <td>17.3</td>\n",
       "      <td>28.4</td>\n",
       "    </tr>\n",
       "    <tr>\n",
       "      <th>Høy score</th>\n",
       "      <td>19.7</td>\n",
       "      <td>38.2</td>\n",
       "      <td>4.8</td>\n",
       "      <td>13.9</td>\n",
       "    </tr>\n",
       "  </tbody>\n",
       "</table>\n",
       "</div>"
      ],
      "text/plain": [
       "              Tilbakefallende hvite  Tilbakefallende svarte  \\\n",
       "Lav score                      49.6                    28.5   \n",
       "Medium score                   30.7                    33.4   \n",
       "Høy score                      19.7                    38.2   \n",
       "\n",
       "              Ikke-tilbakefallende hvite  Ikke-tilbakefallende svarte  \n",
       "Lav score                           78.0                         57.7  \n",
       "Medium score                        17.3                         28.4  \n",
       "Høy score                            4.8                         13.9  "
      ]
     },
     "metadata": {},
     "output_type": "display_data"
    },
    {
     "data": {
      "image/png": "[encoded data removed]",
      "text/plain": [
       "<Figure size 576x432 with 1 Axes>"
      ]
     },
     "metadata": {
      "needs_background": "light"
     },
     "output_type": "display_data"
    },
    {
     "data": {
      "image/png": "[encoded data removed]",
      "text/plain": [
       "<Figure size 576x432 with 1 Axes>"
      ]
     },
     "metadata": {
      "needs_background": "light"
     },
     "output_type": "display_data"
    }
   ],
   "source": [
    "resid = [df.tilbakefall, ~df.tilbakefall]\n",
    "resid_navn = ['Tilbakefallende', 'Ikke-tilbakefallende']\n",
    "tittel = 'Fordeling av risiko-score for tilbakefallende og ikke-tilbakefallende'\n",
    "\n",
    "barplott(score, resid, resid_navn, score_navn, tittel, ha_tabell = 'Ja')\n",
    "\n",
    "etnisk_resid = [df.hvit & df.tilbakefall, df.svart & df.tilbakefall, df.hvit & ~df.tilbakefall, df.svart & ~df.tilbakefall]\n",
    "score_navn = ['Lav score', 'Medium score', 'Høy score']\n",
    "etnisk_resid_navn = [\"Tilbakefallende hvite\", \"Tilbakefallende svarte\",\"Ikke-tilbakefallende hvite\",\"Ikke-tilbakefallende svarte\"]\n",
    "tittel = 'Fordeling av risiko-score blant tilbakefallende og ikke-tilbakefallende hvite og svarte'\n",
    "\n",
    "barplott(score, etnisk_resid, etnisk_resid_navn, score_navn, tittel)"
   ]
  },
  {
   "cell_type": "code",
   "execution_count": null,
   "metadata": {},
   "outputs": [],
   "source": []
  },
  {
   "cell_type": "code",
   "execution_count": null,
   "metadata": {},
   "outputs": [],
   "source": []
  }
 ],
 "metadata": {
  "kernelspec": {
   "display_name": "Python 3",
   "language": "python",
   "name": "python3"
  },
  "language_info": {
   "codemirror_mode": {
    "name": "ipython",
    "version": 3
   },
   "file_extension": ".py",
   "mimetype": "text/x-python",
   "name": "python",
   "nbconvert_exporter": "python",
   "pygments_lexer": "ipython3",
   "version": "3.8.3"
  }
 },
 "nbformat": 4,
 "nbformat_minor": 4
}
