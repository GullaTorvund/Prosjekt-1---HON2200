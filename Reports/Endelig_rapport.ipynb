{
 "cells": [
  {
   "cell_type": "markdown",
   "metadata": {},
   "source": [
    "# En analyse og etisk vurdering av COMPAS-algoritmen\n",
    "## Prosjekt 1 i HON2200 - april 2021\n",
    "### Theodor O. Aaberge, Silje Bentdal, Adrian Ommundsen og Gulla Torvund"
   ]
  },
  {
   "cell_type": "markdown",
   "metadata": {},
   "source": [
    "Vi undersøker egenskapene til COMPAS-algoritmen ved å hente ut betingede sannsynligheter for estimatene og ved å utvikle en modell for algoritmens prediksjoner. Vi argumenterer for at algoritmen har er diskriminerende på bakgrunn av rase."
   ]
  },
  {
   "cell_type": "markdown",
   "metadata": {},
   "source": [
    "## 1. Innledning\n",
    "\n",
    "Et domene hvor det er blitt mulig å anvende maskinlæringsalgoritmer er i trekkingen av rettslige beslutninger. En spesifikk slik anvendelse er for å assistere i å gi risikoestimat for kriminelt tilbakefall, residivering, blant kriminelle. Slike anvendelser har vært i bruk, blant annet ble en slik algoritme, COMPAS-algoritmen, anvendt i Florida på 2010-tallet. I 2016 undersøkte det amerikanske tidsskriftet ProPublica en analyse av bruken av COMPAS-algoritmen, og fremmet anklage om at algoritmen hadde et diskriminerende bias.\n",
    "\n",
    "I denne rapporten gjennomfører vi en analyse av COMPAS-algoritmen liknende den utført av ProPublica-studien. Målet er å undersøke hvorvidt og i hvilken grad COMPAS-algoritmen diskriminerer på bakgrunn av rase. Planen for oppgaven er som følger. I seksjon [2](#2) (1a og 1b) gjør vi en enkel dataanalyse og sammenlikning av rater for faktisk residivering og predikert residivering innad i forskjellige grupper av befolkningen. I seksjon [3](#3) (1d) studerer vi beslutningene til COMPAS-algoritmen ved å trene en logistisk regresjonsmodell som predikerer COMPAS' avgjørelser på basis av, blant annet, rase og kjønn. Fra vår modell henter vi ut et mål, partial dependence, på hvor mye vekt COMPAS-algoritmen legger på rase-variabelen. I seksjon [4](#4) diskuterer vi probabilistike mål på grad av diskriminering. I seksjon [5](#5) diskuterer vi funnnene våre og argumenterer for at disse viser at COMPAS-algoritmen diskriminerer på basis av rase. Vi diskuterer så også mulige feilkilder for vår analyse. Seksjon [6](#6) konkluderer. \n"
   ]
  },
  {
   "cell_type": "markdown",
   "metadata": {},
   "source": [
    "## 2.  Presentasjon og analyse av data\n",
    "<a id='2'></a>"
   ]
  },
  {
   "cell_type": "markdown",
   "metadata": {},
   "source": [
    "Dataen vi har med å gjøre, er den samme som ProPublica brukte i sin studie. Dataen er fra Broward County i Florida, som inneholder en stor mengde parametere (hele 53 stk!) om 7214 dømte forbrytere, blant dem informasjonen om de ble predikert av COMPAS å residivere og om de faktisk residiverte innen en to års periode.\n",
    "\n",
    "For å forstå dataene, ønsker vi å undersøke spesifikke aspekter ved dem. Vi vil se på relativ frekvens av faktorer innad i de ulike gruppene og sammenligne resultatene. Tilfellene vi skal se på er \n",
    "* hvor ofte ulike grupperinger av mennesker (kvinner, menn, hvite og svarte) gjentar forbrytelser og blir predikert å begå straffbare handlinger i framtiden (som andel, ikke totalt antall).\n",
    "\n",
    "* hvor ofte ulike grupper fikk ulike risikoskårer.\n",
    "\n",
    "* hvor ofte de som begikk nye straffbare hadlinger (og de som ikke gjorde det) fikk ulike risikoskårer, og hvordan dette ser ut hvis du kun ser på hvite eller svarte."
   ]
  },
  {
   "cell_type": "markdown",
   "metadata": {},
   "source": [
    "Først importerer vi nødvendige pakker for hele rapporten. `pandas`brukes i stor grad ettersom vi behandler dataene som \"DataFrames\"."
   ]
  },
  {
   "cell_type": "code",
   "execution_count": 5,
   "metadata": {},
   "outputs": [],
   "source": [
    "import numpy as np\n",
    "import pandas as pd\n",
    "import matplotlib.pyplot as plt\n",
    "from sklearn.model_selection import train_test_split\n",
    "from sklearn.metrics import accuracy_score\n",
    "from sklearn.linear_model import LogisticRegression\n",
    "from sklearn.inspection import plot_partial_dependence"
   ]
  },
  {
   "cell_type": "markdown",
   "metadata": {},
   "source": [
    "Vi leser inn dataen. Vi kvitter oss med den dataen hvor siktelsesdatoen er mer enn 30 dager unna datoen for arrestasjonen - ProPublica anså denne dataen som for usikker til å inkludere i studien."
   ]
  },
  {
   "cell_type": "code",
   "execution_count": 9,
   "metadata": {},
   "outputs": [],
   "source": [
    "data = pd.read_csv(\"..//Data/compas-scores-two-years.csv\")\n",
    "data = data[data[\"days_b_screening_arrest\"] <= 30]\n",
    "data = data[data[\"days_b_screening_arrest\"] >= -30]"
   ]
  },
  {
   "cell_type": "markdown",
   "metadata": {},
   "source": [
    "I denne \"første\" analysen lager vi en ny `pandas.DataFrame` og inkluderer den dataen som vi ønsker å se nærmere på. Som ProPublica, definerer vi at de som har fått COMPAS-score \"Medium\" eller \"High\" predikeres til å residivere innen to år."
   ]
  },
  {
   "cell_type": "code",
   "execution_count": 10,
   "metadata": {},
   "outputs": [],
   "source": [
    "df = pd.DataFrame({\n",
    "    \"kvinne\": data.sex == \"Female\",\n",
    "    \"hvit\": data.race == \"Caucasian\",\n",
    "    \"svart\": data.race == \"African-American\",\n",
    "    \"tilbakefall\": data.two_year_recid == 1,\n",
    "    \"predikert_tilbakefall\": data.score_text != \"Low\",\n",
    "    \"lav_score\": data.score_text == \"Low\",\n",
    "    \"medium_score\": data.score_text == \"Medium\",\n",
    "    \"høy_score\": data.score_text == \"High\",})"
   ]
  },
  {
   "cell_type": "markdown",
   "metadata": {},
   "source": [
    "For å regne ut den relative frekvensen av forekomst av en spesifikk egenskap innad i en gruppe, brukes `prosentandel`. Funksjonen `barplott` tar inn de egenskapene og gruppene vi ønsker å undersøke og plotter resultatene i tabell og barplott."
   ]
  },
  {
   "cell_type": "code",
   "execution_count": 11,
   "metadata": {},
   "outputs": [],
   "source": [
    "def prosentandel(fokus, gruppe):\n",
    "    \"\"\"Regner ut prosentandelen av gruppen (gruppe) som har den spesifikke egenskapen (fokus)\n",
    "    \"\"\"\n",
    "    return float(f'{len(df[fokus & gruppe]) / len(df[gruppe]) * 100:.1f}')\n",
    "\n",
    "def barplott(fokusliste, gruppeliste, kol_navn, rad_navn, tittel, ha_tabell = 'Ja'):\n",
    "    \"\"\"Lager en DataFrame med ønskede prosentandeler og plotter den i et barplott.\n",
    "    Tar inn lister over egenskaper og grupper man ønsker å undersøke, samt navn som blir synlig i tabell og plott\n",
    "    OBS! I tabellen er alle tall prosentandeler\n",
    "    \"\"\"\n",
    "    tabell = pd.DataFrame(columns=kol_navn)\n",
    "    \n",
    "    for i,fokus in enumerate(fokusliste):\n",
    "        tabell.loc[i] = [prosentandel(fokus, gruppe) for gruppe in gruppeliste]\n",
    "    tabell.index = rad_navn\n",
    "    ax = tabell.plot.bar(colormap='Set3', figsize=(8,6), rot=0)\n",
    "    ax.set_ylabel('Prosentandel')\n",
    "    ax.set_title(tittel)\n",
    "    plt.rcParams.update({'font.size': 13})\n",
    "    if ha_tabell == 'Ja': # default er å vise tabellen i tillegg til barplottet\n",
    "        display(tabell)         "
   ]
  },
  {
   "cell_type": "markdown",
   "metadata": {},
   "source": [
    "Med disse funksjonene kan vi se på den relative forekomsten av egenskaper innad i gruppene og sammenlikne dem:"
   ]
  },
  {
   "cell_type": "markdown",
   "metadata": {},
   "source": [
    "<a id='21a'></a>\n",
    "### Hvor ofte gjentar ulike grupperinger av mennesker (kvinner, menn, hvite og svarte) forbrytelser og blir predikert å begå straffbare handlinger i framtiden?"
   ]
  },
  {
   "cell_type": "code",
   "execution_count": 12,
   "metadata": {},
   "outputs": [
    {
     "data": {
      "text/html": [
       "<div>\n",
       "<style scoped>\n",
       "    .dataframe tbody tr th:only-of-type {\n",
       "        vertical-align: middle;\n",
       "    }\n",
       "\n",
       "    .dataframe tbody tr th {\n",
       "        vertical-align: top;\n",
       "    }\n",
       "\n",
       "    .dataframe thead th {\n",
       "        text-align: right;\n",
       "    }\n",
       "</style>\n",
       "<table border=\"1\" class=\"dataframe\">\n",
       "  <thead>\n",
       "    <tr style=\"text-align: right;\">\n",
       "      <th></th>\n",
       "      <th>Kvinner</th>\n",
       "      <th>Menn</th>\n",
       "      <th>Hvite</th>\n",
       "      <th>Svarte</th>\n",
       "    </tr>\n",
       "  </thead>\n",
       "  <tbody>\n",
       "    <tr>\n",
       "      <th>Tilbakefallende</th>\n",
       "      <td>35.1</td>\n",
       "      <td>47.9</td>\n",
       "      <td>39.1</td>\n",
       "      <td>52.3</td>\n",
       "    </tr>\n",
       "    <tr>\n",
       "      <th>Predikert tilbakefallende</th>\n",
       "      <td>40.5</td>\n",
       "      <td>45.5</td>\n",
       "      <td>33.1</td>\n",
       "      <td>57.6</td>\n",
       "    </tr>\n",
       "  </tbody>\n",
       "</table>\n",
       "</div>"
      ],
      "text/plain": [
       "                           Kvinner  Menn  Hvite  Svarte\n",
       "Tilbakefallende               35.1  47.9   39.1    52.3\n",
       "Predikert tilbakefallende     40.5  45.5   33.1    57.6"
      ]
     },
     "metadata": {},
     "output_type": "display_data"
    },
    {
     "data": {
      "image/png": "[encoded data removed]",
      "text/plain": [
       "<Figure size 576x432 with 1 Axes>"
      ]
     },
     "metadata": {
      "needs_background": "light"
     },
     "output_type": "display_data"
    }
   ],
   "source": [
    "resid_predresid = [df.tilbakefall, df.predikert_tilbakefall]\n",
    "gruppe = [df.kvinne, ~df.kvinne, df.hvit, df.svart]\n",
    "gruppenavn = ['Kvinner', 'Menn', 'Hvite', 'Svarte']\n",
    "resid_predresid_navn = ['Tilbakefallende', 'Predikert tilbakefallende']\n",
    "tittel1 = 'Fordeling av tilbakefallende og predikert tilbakefallende blant gruppene'\n",
    "barplott(resid_predresid, gruppe, gruppenavn, resid_predresid_navn, tittel1)"
   ]
  },
  {
   "cell_type": "markdown",
   "metadata": {},
   "source": [
    "Vi ser at COMPAS-algoritmen predikerer en større andel svarte og kvinner til å residivere enn dét som faktisk er tilfelle, mens den vipper i motsatt retning for menn og hvite. Vi ser også at de ulike gruppene har forskjellige residiveringsrater."
   ]
  },
  {
   "cell_type": "markdown",
   "metadata": {},
   "source": [
    "<a id='21b'></a>\n",
    "### Hvor ofte fikk de ulike gruppene de tre risikoskårene lav, middels og høy?\n"
   ]
  },
  {
   "cell_type": "code",
   "execution_count": 13,
   "metadata": {},
   "outputs": [
    {
     "data": {
      "text/html": [
       "<div>\n",
       "<style scoped>\n",
       "    .dataframe tbody tr th:only-of-type {\n",
       "        vertical-align: middle;\n",
       "    }\n",
       "\n",
       "    .dataframe tbody tr th {\n",
       "        vertical-align: top;\n",
       "    }\n",
       "\n",
       "    .dataframe thead th {\n",
       "        text-align: right;\n",
       "    }\n",
       "</style>\n",
       "<table border=\"1\" class=\"dataframe\">\n",
       "  <thead>\n",
       "    <tr style=\"text-align: right;\">\n",
       "      <th></th>\n",
       "      <th>Kvinner</th>\n",
       "      <th>Menn</th>\n",
       "      <th>Hvite</th>\n",
       "      <th>Svarte</th>\n",
       "    </tr>\n",
       "  </thead>\n",
       "  <tbody>\n",
       "    <tr>\n",
       "      <th>Lav score</th>\n",
       "      <td>59.5</td>\n",
       "      <td>54.5</td>\n",
       "      <td>66.9</td>\n",
       "      <td>42.4</td>\n",
       "    </tr>\n",
       "    <tr>\n",
       "      <th>Middels score</th>\n",
       "      <td>27.7</td>\n",
       "      <td>25.7</td>\n",
       "      <td>22.5</td>\n",
       "      <td>31.0</td>\n",
       "    </tr>\n",
       "    <tr>\n",
       "      <th>Høy score</th>\n",
       "      <td>12.9</td>\n",
       "      <td>19.9</td>\n",
       "      <td>10.6</td>\n",
       "      <td>26.6</td>\n",
       "    </tr>\n",
       "  </tbody>\n",
       "</table>\n",
       "</div>"
      ],
      "text/plain": [
       "               Kvinner  Menn  Hvite  Svarte\n",
       "Lav score         59.5  54.5   66.9    42.4\n",
       "Middels score     27.7  25.7   22.5    31.0\n",
       "Høy score         12.9  19.9   10.6    26.6"
      ]
     },
     "metadata": {},
     "output_type": "display_data"
    },
    {
     "data": {
      "image/png": "[encoded data removed]",
      "text/plain": [
       "<Figure size 576x432 with 1 Axes>"
      ]
     },
     "metadata": {
      "needs_background": "light"
     },
     "output_type": "display_data"
    }
   ],
   "source": [
    "score = [df.lav_score, df.medium_score, df.høy_score]\n",
    "score_navn = ['Lav score', 'Middels score', 'Høy score']\n",
    "tittel2 = 'Fordeling av risikoscore blant gruppene'\n",
    "\n",
    "barplott(score, gruppe, gruppenavn, score_navn, tittel2)"
   ]
  },
  {
   "cell_type": "markdown",
   "metadata": {},
   "source": [
    "Det mest fremtredende resultatet her er at hvite har tydelig lavere score enn svarte. Hvite har en overveiende prosentandel med lav score, mens de svartes score er mer jevt fordelt."
   ]
  },
  {
   "cell_type": "markdown",
   "metadata": {},
   "source": [
    "<a id='21c'></a>\n",
    "### Hvor ofte fikk tilbakefallende og ikke-tilbakefallende ulike risikoskårer, og hvordan ser dette ut når vi kun ser på hvite og svarte?"
   ]
  },
  {
   "cell_type": "code",
   "execution_count": 14,
   "metadata": {},
   "outputs": [
    {
     "data": {
      "text/html": [
       "<div>\n",
       "<style scoped>\n",
       "    .dataframe tbody tr th:only-of-type {\n",
       "        vertical-align: middle;\n",
       "    }\n",
       "\n",
       "    .dataframe tbody tr th {\n",
       "        vertical-align: top;\n",
       "    }\n",
       "\n",
       "    .dataframe thead th {\n",
       "        text-align: right;\n",
       "    }\n",
       "</style>\n",
       "<table border=\"1\" class=\"dataframe\">\n",
       "  <thead>\n",
       "    <tr style=\"text-align: right;\">\n",
       "      <th></th>\n",
       "      <th>Tilbakefallende</th>\n",
       "      <th>Ikke-tilbakefallende</th>\n",
       "    </tr>\n",
       "  </thead>\n",
       "  <tbody>\n",
       "    <tr>\n",
       "      <th>Lav score</th>\n",
       "      <td>38.3</td>\n",
       "      <td>69.7</td>\n",
       "    </tr>\n",
       "    <tr>\n",
       "      <th>Middels score</th>\n",
       "      <td>31.5</td>\n",
       "      <td>21.4</td>\n",
       "    </tr>\n",
       "    <tr>\n",
       "      <th>Høy score</th>\n",
       "      <td>30.2</td>\n",
       "      <td>8.8</td>\n",
       "    </tr>\n",
       "  </tbody>\n",
       "</table>\n",
       "</div>"
      ],
      "text/plain": [
       "               Tilbakefallende  Ikke-tilbakefallende\n",
       "Lav score                 38.3                  69.7\n",
       "Middels score             31.5                  21.4\n",
       "Høy score                 30.2                   8.8"
      ]
     },
     "metadata": {},
     "output_type": "display_data"
    },
    {
     "data": {
      "image/png": "[encoded data removed]",
      "text/plain": [
       "<Figure size 576x432 with 1 Axes>"
      ]
     },
     "metadata": {
      "needs_background": "light"
     },
     "output_type": "display_data"
    }
   ],
   "source": [
    "resid = [df.tilbakefall, ~df.tilbakefall]\n",
    "resid_navn = ['Tilbakefallende', 'Ikke-tilbakefallende']\n",
    "tittel3 = 'Fordeling av risiko-score for tilbakefallende og ikke-tilbakefallende'\n",
    "\n",
    "barplott(score, resid, resid_navn, score_navn, tittel3)"
   ]
  },
  {
   "cell_type": "markdown",
   "metadata": {},
   "source": [
    "Totalt sett er COMPAS-algoritmen bedre på å predikere de som ikke tilbakefaller enn de som tilbakefaller. Det bør poengteres at dersom man, som ProPublica og vi gjør, definerer både middels og høy score til å gi positiv prediktiv verdi, gjør ikke algoritmen det så dårlig som det tilsynelatende kan se ut som her. Legger man scorene sammen, ser vi at COMPAS predikerer ikke-tilbakefallende korrekt 70% av gangene og tilbakefallende 62% av gangene."
   ]
  },
  {
   "cell_type": "markdown",
   "metadata": {},
   "source": [
    "<a id='21d'></a>"
   ]
  },
  {
   "cell_type": "code",
   "execution_count": 15,
   "metadata": {},
   "outputs": [
    {
     "data": {
      "text/html": [
       "<div>\n",
       "<style scoped>\n",
       "    .dataframe tbody tr th:only-of-type {\n",
       "        vertical-align: middle;\n",
       "    }\n",
       "\n",
       "    .dataframe tbody tr th {\n",
       "        vertical-align: top;\n",
       "    }\n",
       "\n",
       "    .dataframe thead th {\n",
       "        text-align: right;\n",
       "    }\n",
       "</style>\n",
       "<table border=\"1\" class=\"dataframe\">\n",
       "  <thead>\n",
       "    <tr style=\"text-align: right;\">\n",
       "      <th></th>\n",
       "      <th>Tilbakefallende hvite</th>\n",
       "      <th>Tilbakefallende svarte</th>\n",
       "      <th>Ikke-tilbakefallende hvite</th>\n",
       "      <th>Ikke-tilbakefallende svarte</th>\n",
       "    </tr>\n",
       "  </thead>\n",
       "  <tbody>\n",
       "    <tr>\n",
       "      <th>Lav score</th>\n",
       "      <td>49.6</td>\n",
       "      <td>28.5</td>\n",
       "      <td>78.0</td>\n",
       "      <td>57.7</td>\n",
       "    </tr>\n",
       "    <tr>\n",
       "      <th>Middels score</th>\n",
       "      <td>30.7</td>\n",
       "      <td>33.4</td>\n",
       "      <td>17.3</td>\n",
       "      <td>28.4</td>\n",
       "    </tr>\n",
       "    <tr>\n",
       "      <th>Høy score</th>\n",
       "      <td>19.7</td>\n",
       "      <td>38.2</td>\n",
       "      <td>4.8</td>\n",
       "      <td>13.9</td>\n",
       "    </tr>\n",
       "  </tbody>\n",
       "</table>\n",
       "</div>"
      ],
      "text/plain": [
       "               Tilbakefallende hvite  Tilbakefallende svarte  \\\n",
       "Lav score                       49.6                    28.5   \n",
       "Middels score                   30.7                    33.4   \n",
       "Høy score                       19.7                    38.2   \n",
       "\n",
       "               Ikke-tilbakefallende hvite  Ikke-tilbakefallende svarte  \n",
       "Lav score                            78.0                         57.7  \n",
       "Middels score                        17.3                         28.4  \n",
       "Høy score                             4.8                         13.9  "
      ]
     },
     "metadata": {},
     "output_type": "display_data"
    },
    {
     "data": {
      "image/png": "[encoded data removed]",
      "text/plain": [
       "<Figure size 576x432 with 1 Axes>"
      ]
     },
     "metadata": {
      "needs_background": "light"
     },
     "output_type": "display_data"
    }
   ],
   "source": [
    "etnisk_resid = [df.hvit & df.tilbakefall, df.svart & df.tilbakefall, df.hvit & ~df.tilbakefall, df.svart & ~df.tilbakefall]\n",
    "etnisk_resid_navn = [\"Tilbakefallende hvite\", \"Tilbakefallende svarte\",\"Ikke-tilbakefallende hvite\",\"Ikke-tilbakefallende svarte\"]\n",
    "tittel4 = 'Fordeling av risiko-score blant tilbakefallende og ikke-tilbakefallende hvite og svarte'\n",
    "\n",
    "barplott(score, etnisk_resid, etnisk_resid_navn, score_navn, tittel4)"
   ]
  },
  {
   "cell_type": "markdown",
   "metadata": {},
   "source": [
    "COMPAS-scoren gjenspeiler ikke-tilbakefallende hvite godt (78%) og ikke-tilbakefallende svarte nogenlunde (58%). For tilbakefallende hvite predikerer den omtrent like godt som en random-algoritme, ettersom halvparten får lav score. For tilbakefallende gjør algoritmen det langt bedre for svarte (72%)."
   ]
  },
  {
   "cell_type": "markdown",
   "metadata": {},
   "source": [
    "### Rater og betinget sannsynlighet for undergrupper\n",
    "<a id='22a'></a>"
   ]
  },
  {
   "cell_type": "markdown",
   "metadata": {},
   "source": [
    "Vi ønsker nå å se på data for følgende grupper:\n",
    "* Hele befolkningen\n",
    "* Kvinner \n",
    "* Menn \n",
    "* Hvite\n",
    "* Svarte\n",
    "\n",
    "Vi undersøker raten av falske positive, sanne positive, falske negative og sanne negative. I tillegg ønsker vi å se på sannsynligheten for at gruppen residiverer (tilbakefall) gitt at de er blitt predikert til å gjøre det, altså COMPAS-algoritmens positiv prediktive verdi.   \n",
    "Til dette bruker vi funksjonene `falsk_positiv`, `sann_positiv`, `falsk_negativ`, `sann_negativ` og `p_residiv_g_høy`. "
   ]
  },
  {
   "cell_type": "code",
   "execution_count": 16,
   "metadata": {},
   "outputs": [],
   "source": [
    "def falsk_positiv(gruppe):\n",
    "    \"\"\"Regner ut raten av falske positive for en gitt gruppe\n",
    "    -----\n",
    "    Arguments:\n",
    "        gruppe: array med True/False verdier for dataframe\n",
    "    \n",
    "    Return:\n",
    "        float: raten av falske positive i prosent med én desimal. \n",
    "    \"\"\"\n",
    "    # FP / (FP + SN)\n",
    "    return float(f'{len(df[gruppe & df.predikert_tilbakefall & ~df.tilbakefall]) / len(df[gruppe & ~df.tilbakefall]) * 100:.1f}')\n",
    "\n",
    "def sann_positiv(gruppe):\n",
    "    \"\"\"Regner ut raten av sanne positive for en gitt gruppe\n",
    "    -----\n",
    "    Arguments:\n",
    "        gruppe: array med True/False verdier for dataframe\n",
    "    \n",
    "    Return:\n",
    "        float: raten av sanne positive i prosent med én desimal.\n",
    "    \"\"\"\n",
    "    # SP / (SP + FN)\n",
    "    # sensitivitet\n",
    "    return float(f'{len(df[gruppe & df.predikert_tilbakefall & df.tilbakefall]) / len(df[gruppe & df.tilbakefall]) * 100:.1f}')\n",
    "\n",
    "def falsk_negativ(gruppe):\n",
    "    \"\"\"Regner ut raten av falske negative for en gitt gruppe\n",
    "    -----\n",
    "    Arguments:\n",
    "        gruppe: array med True/False verdier for dataframe\n",
    "    \n",
    "    Return:\n",
    "        float: raten av falske negative i prosent med én desimal.\n",
    "    \"\"\"\n",
    "    # FN / (FN + SP)\n",
    "    return float(f'{len(df[gruppe & ~df.predikert_tilbakefall & df.tilbakefall]) / len(df[gruppe & df.tilbakefall]) * 100:.1f}')\n",
    "\n",
    "def sann_negativ(gruppe):\n",
    "    \"\"\"Regner ut raten av sanne negative for en gitt gruppe\n",
    "    -----\n",
    "    Arguments:\n",
    "        gruppe: array med True/False verdier for dataframe\n",
    "    \n",
    "    Return:\n",
    "        float: raten av sanne negative i prosent med én desimal.\n",
    "    \"\"\"\n",
    "    # SN / (SN + FP)\n",
    "    # spesifisitet\n",
    "    return float(f'{len(df[gruppe & ~df.predikert_tilbakefall & ~df.tilbakefall]) / len(df[gruppe & ~df.tilbakefall]) * 100:.1f}')\n",
    "\n",
    "def p_residiv_g_høy(gruppe):\n",
    "    \"\"\"Regner ut sannsynligheten for at en gruppe residiverer gitt at de har blitt predikert til å gjøre det\n",
    "    -----\n",
    "    Arguments:\n",
    "        gruppe: array med True/False verdier for dataframe\n",
    "    \n",
    "    Return:\n",
    "        float: sannsynlighet i prosent med én desimal.\n",
    "    \"\"\"\n",
    "    return float(f'{len(df[gruppe & df.predikert_tilbakefall & df.tilbakefall]) / len(df[gruppe & df.predikert_tilbakefall]) * 100:.1f}')"
   ]
  },
  {
   "cell_type": "code",
   "execution_count": 17,
   "metadata": {},
   "outputs": [],
   "source": [
    "alle = np.full(len(df), True)"
   ]
  },
  {
   "cell_type": "code",
   "execution_count": 18,
   "metadata": {},
   "outputs": [
    {
     "data": {
      "text/plain": [
       "{'Alle': {'falsk_positiv': 30.3,\n",
       "  'falsk_negativ': 38.3,\n",
       "  'sann_positiv': 61.7,\n",
       "  'sann_negativ': 69.7,\n",
       "  'p_residiv_g_høy': 63.0},\n",
       " 'Kvinner': {'falsk_positiv': 30.2,\n",
       "  'falsk_negativ': 40.4,\n",
       "  'sann_positiv': 59.6,\n",
       "  'sann_negativ': 69.8,\n",
       "  'p_residiv_g_høy': 51.7},\n",
       " 'Menn': {'falsk_positiv': 30.3,\n",
       "  'falsk_negativ': 37.9,\n",
       "  'sann_positiv': 62.1,\n",
       "  'sann_negativ': 69.7,\n",
       "  'p_residiv_g_høy': 65.4},\n",
       " 'Hvite': {'falsk_positiv': 22.0,\n",
       "  'falsk_negativ': 49.6,\n",
       "  'sann_positiv': 50.4,\n",
       "  'sann_negativ': 78.0,\n",
       "  'p_residiv_g_høy': 59.5},\n",
       " 'Svarte': {'falsk_positiv': 42.3,\n",
       "  'falsk_negativ': 28.5,\n",
       "  'sann_positiv': 71.5,\n",
       "  'sann_negativ': 57.7,\n",
       "  'p_residiv_g_høy': 65.0}}"
      ]
     },
     "execution_count": 18,
     "metadata": {},
     "output_type": "execute_result"
    }
   ],
   "source": [
    "functions = [falsk_positiv, falsk_negativ, sann_positiv, sann_negativ, p_residiv_g_høy]\n",
    "grouplist = [alle, df.kvinne, ~df.kvinne, df.hvit, df.svart]\n",
    "namelist = ['Alle', 'Kvinner', 'Menn', 'Hvite', 'Svarte']\n",
    "d = {}\n",
    "for name, group in zip(namelist, grouplist):\n",
    "    inner_dict = {}\n",
    "    for function in functions:\n",
    "        inner_dict[function.__name__] = function(group)\n",
    "    d[name] = inner_dict\n",
    "d"
   ]
  },
  {
   "cell_type": "markdown",
   "metadata": {},
   "source": [
    "Spesifisiteten (sanne negative) sier oss noe om hvor bra COMPAS klarer å identifisere personer som ikke kommer til å få tilbakefall. Sensitiviteten (sanne positive) sier noe om hvor bra COMPAS klarer å identifisere personer som kommer til å residivere. Det er først når begge disse tallene er høye det kan konkluderes med at algoritmen er god. Dersom det ene tallet er relativt høyt, imens det andre er relativt lavt, så sier dette noe om algoritmen er strengere i den ene eller andre retningen. For eksempel har vi for hvite at COMPAS har høy sann negativ rate og lav sann positiv rate. Ut ifra dette kan vi trekke frem en hypotese om at den generelt gir lav score for hvite.\n",
    "\n",
    "Falske positive er personer som ikke residiverer, men som COMPAS predikerer at vil gjøre det. Dette vil være mennesker som får strengere straff enn fortjent. Raten av falske positive vil være viktig å holde lav for individualistiske samfunn.   \n",
    "Falske negative er personer vi kanskje slipper ut i samfunnet igjen, men som likevel begår en kriminell handling. Disse menneskene vil utgjøre en fare for samfunnet. Raten av falske negative vil være viktig å holde lav for kollektivistiske samfunn. "
   ]
  },
  {
   "cell_type": "markdown",
   "metadata": {},
   "source": [
    "Positiv prediktiv verdi sier noe om hvor sannsynlig det er at gruppen residiverer gitt at de blir predikert til å gjøre det. Denne er relativt lav, men høyere enn 50%, for alle grupper (se [plott](#21d)). *siste kommentar kan endres*"
   ]
  },
  {
   "cell_type": "markdown",
   "metadata": {},
   "source": [
    "## 3.   Modellering av skjevheter i COMPAS-algoritmen\n",
    "<a id='3'></a>"
   ]
  },
  {
   "cell_type": "markdown",
   "metadata": {},
   "source": [
    "Vi undersøker så skjevheter i COMPAS på bakgrunn av rase ved å kontrollere for kjønn, alder, kriminell historie og eventuell gjentatt forbrytelse. Her gjør vi hovedsaklig det samme som ProPublica-studien: vi trener en algoritme på en del av dataen vi har, bruker denne modellen til å predikere den resterende testdataen og sjekker egenskapene til modellen. Vi trener altså modellen vår til å predikere COMPAS-prediksjonen av tilbakefall. Vi bruker `sklearn`-biblioteket og dens `LogisticRegression` for å trene modellen vår. Grunnen til at vi bruker logistisk regresjon er at denne metoden fungerer godt på klassifikasjon med binært utfall."
   ]
  },
  {
   "cell_type": "code",
   "execution_count": 23,
   "metadata": {},
   "outputs": [],
   "source": [
    "# velger hensiktsmessig data (samma som ProPublica)\n",
    "X = data[[\"age_cat\", \"race\", \"sex\", \"priors_count\", \"c_charge_degree\", \"two_year_recid\"]]\n",
    "\n",
    "# lager dummies (0 eller 1) av featuresene som er strings\n",
    "categorical_cols = [\"age_cat\", \"race\", \"sex\", \"c_charge_degree\"]\n",
    "X = pd.get_dummies(X, columns=categorical_cols, prefix=categorical_cols, prefix_sep='_')\n",
    "\n",
    "# tar bort overflødige dummies\n",
    "X = X.drop([\"age_cat_25 - 45\", \"race_Caucasian\", \"sex_Male\", \"c_charge_degree_F\"], axis=1)\n",
    "\n",
    "# 'fasiten' vår er COMPAS sin prediksjon av tilbakefall (score = (Medium or High))\n",
    "Y = data[\"score_text\"] != \"Low\"\n",
    "\n",
    "# splitter treningsdata og testdata med sklearn sin 'train_test_split', standard test size\n",
    "X_train, X_test, Y_train, Y_test = train_test_split(X, Y, test_size=0.20)"
   ]
  },
  {
   "cell_type": "code",
   "execution_count": 24,
   "metadata": {},
   "outputs": [
    {
     "name": "stdout",
     "output_type": "stream",
     "text": [
      "Nøyaktigheten til modellen er 0.770.\n"
     ]
    }
   ],
   "source": [
    "# lager modellen vår, som er sklearn sin 'LogisticRegression'\n",
    "model = LogisticRegression(random_state=0, max_iter=10000)\n",
    "\n",
    "# trener modellen (tilpasser vekter) og bias på treningsdataen\n",
    "model.fit(X_train, Y_train)\n",
    "\n",
    "# tester modellen på testdataen og ser hvor godt modellen gjøre det\n",
    "Y_mdl = model.predict(X_test)\n",
    "print(f'Nøyaktigheten til modellen er {accuracy_score(Y_mdl, Y_test):.3f}.')"
   ]
  },
  {
   "cell_type": "markdown",
   "metadata": {},
   "source": [
    "### Skjevheter på bakgrunn av etnisitet <a id='3a'></a>"
   ]
  },
  {
   "cell_type": "markdown",
   "metadata": {},
   "source": [
    "Nå sjekker vi hvor mye vekt som legges på etnisitet når vi korrigerer for andre features. For å finne dette, skaper vi en \"standard\" person hvor ingen features vektlegges, og kun biasen sendes inn i sigmoid-funksjonen (aktiveringsfunksjonen i logistisk regresjon). Denne standardpersonen er en hvit mann mellom 25-45 år og med charge degree F, altså det vi tok bort fra X tidligere. Deretter sammenlikner vi denne nøytrale personen mot en person som kun har egenskapen 'race_African-American = True'. Dette betyr at dersom vi har to helt like personer (med disse egenskapene) der etnisitet er det eneste som skiller seg ut, kan vi se hvordan rasen påvirker scoren. "
   ]
  },
  {
   "cell_type": "code",
   "execution_count": 25,
   "metadata": {},
   "outputs": [],
   "source": [
    "# trenger en sigmoid-funksjon for å skape en \"nøytral\" person (se neste celle)\n",
    "def sigmoid(z):\n",
    "    \"\"\"klassisk sigmoid-funksjon som tar inn et tall z og returnerer (1/(1+e^-z)) = (e^z/(1+e^z))\n",
    "    \"\"\"\n",
    "    return np.where(z >= 0, 1 / (1 + np.exp(-z)), np.exp(z) / (1 + np.exp(z))) #np.where tar høyde for overflow"
   ]
  },
  {
   "cell_type": "code",
   "execution_count": 27,
   "metadata": {},
   "outputs": [
    {
     "name": "stdout",
     "output_type": "stream",
     "text": [
      "Bias mot svarte relativt til \"standardpersonen\" er 1.426.\n"
     ]
    }
   ],
   "source": [
    "# lager en \"nøytral\" person ved å kun sende biasen inn i sigmoidfunksjonen \n",
    "kontroll = sigmoid(model.intercept_)\n",
    "vekter = model.coef_[0]\n",
    "# vekter[4] er vekten til race_African-American \n",
    "er_svart = vekter[4]\n",
    "# finner racialBias, bias mht etnisitet, i modellen vår\n",
    "racialBias = np.exp(er_svart) / (1 - kontroll  + (kontroll * np.exp(er_svart)))\n",
    "print(f'Bias mot svarte relativt til \"standardpersonen\" er {np.mean(racialBias):.3f}.')"
   ]
  },
  {
   "cell_type": "markdown",
   "metadata": {},
   "source": [
    "Altså er modellen vår rundt 45% (endres noe for hver nye modell) mer sannsynlig å predikere svarte til å residivere enn hvite. OBS! Som nevnt, gjelder denne prosenten kun for hvite og svarte med spesifikke egenskaper. Se nærmere analyse i [notebook 1d](../Notebooks/1d.ipynb#er_nøytral) og diskusjon rundt dette i [Feilkilder](#5b)"
   ]
  },
  {
   "cell_type": "markdown",
   "metadata": {},
   "source": [
    "### Partial dependency <a id='3b'></a>"
   ]
  },
  {
   "cell_type": "markdown",
   "metadata": {},
   "source": [
    "Vi ser på hvilken innflytelse de andre parametrene har på utfallet av modellen, ved å studere *partial dependency*. *Partial dependency*, hvor vi bruker den hendige `sklearn` sin `plot_partial_dependence` sier oss noe om hvor mye av utfallet i seleksjonsprosessen som hviler på de ulike parameterene algoritmen blir matet med."
   ]
  },
  {
   "cell_type": "code",
   "execution_count": 28,
   "metadata": {},
   "outputs": [
    {
     "data": {
      "image/png": "[encoded data removed]",
      "text/plain": [
       "<Figure size 1080x432 with 4 Axes>"
      ]
     },
     "metadata": {
      "needs_background": "light"
     },
     "output_type": "display_data"
    }
   ],
   "source": [
    "#plotter partial dependance, velger ut de featuresene vi ønsker å se på\n",
    "features = [\"race_African-American\",\"sex_Female\",\"two_year_recid\"]\n",
    "plot_partial_dependence(model, X_train, features)\n",
    "plt.gcf().set_size_inches(15, 6)"
   ]
  },
  {
   "cell_type": "markdown",
   "metadata": {},
   "source": [
    "Vi ser at alle disse faktorene har positiv verdi for prediksjonen. Det vil si at dersom en person har disse featuresene, vil den være mer sannsynlig til å bli predikert til å residivere enn om den ikke har disse featuresene. Av stigningstallet ser vi for eksempel at rase har mer å si enn kjønn. At egenskapen å faktisk ha residivert (two_year_recid) har positiv verdi tilsier at COMPAS-algoritmen gjør noe riktig, men dersom algoritmen faktisk hadde vært presis, ville grafen vært langt brattere."
   ]
  },
  {
   "cell_type": "code",
   "execution_count": 19,
   "metadata": {},
   "outputs": [
    {
     "data": {
      "image/png": "[encoded data removed]",
      "text/plain": [
       "<Figure size 1080x432 with 4 Axes>"
      ]
     },
     "metadata": {
      "needs_background": "light"
     },
     "output_type": "display_data"
    }
   ],
   "source": [
    "features = [\"priors_count\", \"c_charge_degree_M\", 'age_cat_Less than 25']\n",
    "plot_partial_dependence(model, X_train, features)\n",
    "plt.gcf().set_size_inches(15, 6)"
   ]
  },
  {
   "cell_type": "markdown",
   "metadata": {},
   "source": [
    "Man ser at priors_count fort får mye å si. Vår intuisjon sier at dette gir mening fordi personer som er vant med å begå kriminelle handlinger ofte vil gjøre det senere også. Alder får også en relativt stor positiv verdi i prediksjonen, altså at yngre i større grad blir predikert residiverende. c_charge_degree_M vil i snitt ha en negativ verdi på prediksjonen, noe som også intuitivt gir mening ettersom man skulle anta at personer som begår mer alvorlige ulovligheter, er mer tilbøyelig til å begå nye kriminelle handlinger.   \n",
    "  \n",
    "Det er viktig å påpeke at disse plottene har en annen y-akse enn forrige plott. Vi kan for eksempel sammenligne alder og etnisitet, og se at alder har mer å si for prediksjonen i snitt enn det etnisitet har. "
   ]
  },
  {
   "cell_type": "markdown",
   "metadata": {},
   "source": [
    "*Partial dependency* forteller oss noe om hvordan forholdet mellom en inputvariabel og outputen er. *Partial dependency*-plottene viser gjennomsnittsverdien for alle mulige kombinasjoner av faktorer. Det er derfor mulig at den gitte faktoren i noen tilfeller har enda mer å si, mens den i andre tilfeller har negativ verdi for prediksjonen. "
   ]
  },
  {
   "cell_type": "markdown",
   "metadata": {},
   "source": [
    "## 4. Probabilistike mål på diskriminering\n",
    "<a id='4'></a>"
   ]
  },
  {
   "cell_type": "markdown",
   "metadata": {},
   "source": [
    "Vi spør hvorvidt COMPAS-algoritmen diskriminerer på basis av rase. Dette reiser spørsmålet om hva det vil si at en algoritme som COMPAS-algoritmen er diskriminerende. I denne seksjonen diskuterer vi probabilistiske kriterier og mål på om en algoritme er diskriminerende. Først svarer på på oppgaven som ber oss om å relatere et gitt mål på diskriminering til graden av nøyaktighet til algoritmen. Så argumenterer vi for at dette gitte målet ikke er et særlig godt mål diskriminasjon, og foreslår heller et alternativt mål. I neste seksjon, diskusjonsseksjonen anvender vi disse konklusjonene fra denne seksjonen til å diskutere hvorvidt COMPAS-algoritmen er diskriminerende. Flere av spørsmålene vi diskuterer her diskuterer vi i videre detalj i etikk-delen av oppgaven vår.\n",
    "\n",
    "\n",
    "I denne seksjonen bruker vi de følgende forkortelser for hendelser:\n",
    "\n",
    "$R \\sim \\text{'Individet residiverer'}$\n",
    "\n",
    "$C \\sim \\text{'Individet har prediksjon MEDIUM eller HIGH av COMPAS'}$\n",
    "\n",
    "$A \\sim \\text{'Individet er etnisk afroamerikaner'}$\n",
    "\n",
    "$E \\sim \\text{'Individet er etnisk europeisk eller nord-afrikansk/\"caucasian\"'}$\n",
    "\n",
    "Når $A$ og $B$ er hendelser lar vi $\\neg A$, $A\\wedge B$ og $A \\vee B$ stå for henholdvis komplementhendelsen til $A$, unionhendelsen av $A$ og $B$ og disjunksjonhendelsen av $A$ og $B$. Sannsynligheten til en hendelse $A$ betegnes $P(A)$; den betingede sannsynligheten av en hendelse $A$ gitt en hendelse $B$ betegnes $P(A\\mid B)$\n",
    "\n",
    "Ett mulig mål på diskriminering av etnisk afro-amerikanere relativt til etnisk europeere, som foreslått av oppgaven vi ble gitt, er forholdstallet:\n",
    "\n",
    "$$D(A;E):=\\dfrac{P(C \\mid \\neg R \\wedge A)}{P(C \\mid \\neg R \\wedge E)},$$\n",
    "\n",
    "som er definert så lenge teller og nevner er definert, og $P(C \\mid \\neg R \\wedge E)\\not=0$. Idéen bak dette målet er å sammenlikne sannsynlighetene for en predikert høy risiko av COMPAS blant etnisk afro-amerikanere som faktisk ikke residiverer og blant etnisk europeere som faktisk ikke residiverer. Jo høyere forholdet mellom disse to sannsynlighetene er, jo mer diskrimineres det mot etnisk afro-amerikanere relativt til etnisk europeere; dette sier hvertfall målet vårt over. \n",
    "\n",
    "Vi kan bruke Bayes teorem til å se en relasjon mellom dette målet på diskriminasjon og presisjonen til algoritmen innad i de to gruppene. Teller og nevner er proporsjonale med unøyaktigheten (mangel på spesifisitet) til algoritmen for henholdsvis etnisk afro-amerikanske og etnisk europeiske. Vi ser spesielt på telleren:\n",
    "\n",
    "$$P(C \\mid \\neg R \\wedge A)=P(\\neg R \\mid C \\wedge A)\\cdot\\dfrac{P(C\\mid A)}{P(\\neg R \\mid A)}$$\n",
    "\n",
    "Altså, blandt afro-amerikanske, holder vi fast antall som COMPAS predikerer å ha høy risiko og antall som residiverer, er dette uttrykket bestemt av $P(\\neg R\\mid C \\wedge A)=1-P(R\\mid C \\wedge A)$, altså det er proporsjonalt med mangel på positiv prediktiv verdi. \n",
    "\n",
    "Men, målet vi har over er sannsynligvis ikke et godt mål på diskriminasjon i prediksjoner. Her er en intuitiv forklaring på hvorfor: Dersom én gruppe har høyere sannsynlighet for å residivere enn en annen, så kan man uten å diskriminere predikere at den ene gruppen residiverer oftere enn den andre gruppen. Men selv om raten av falske positive blant positive prediskjoner er den samme i begge tilfeller, vil man kunne ha høyere sannsynlighet for falske positive i den ene mer residiverende gruppen enn den andre. Målet over dømmer dermed en slik algoritme for å være diskriminerende selv om algoritmen intuitivt ikke er diskriminerende. \n",
    "\n",
    "Et konkret eksempel er som følger. Vi har en populasjon med 2000 individer hvor vi har to grupper $E$ og $A$ hvor residivering og prediksjonene er som følger: \n",
    "\n",
    " $Totalt$; $R$;  $C$; $C\\wedge R$        \n",
    " \n",
    " $E:$           $1000$;    $500;$     $500;$   $250$\n",
    " \n",
    " $A:$           $1000;$    $250;$     $250;$   $125$\n",
    "\n",
    "Denne (unøyaktige) prediksjonsalgoritmen kan man argumentere for at ikke er diskriminerende: den predikerer en persons risiko på bakgrunn av residiveringsraten for den personens etniske gruppe; ingen av gruppene har urettferdig høy unøyaktighet i prediksjonene. (Om du ikke ønsker å predikere ved hjelp av etnisk gruppe kan du omformulere eksempelet slik at prediksjonen blir gjort utelukkende på bakgrunn av en annen variabel, her f. eks. fattigdom, som korrelerer med den ene etnisitetsvariabelen.)\n",
    "\n",
    "Men målet over sier dette er en svært diskriminerende prediksjon:\n",
    "\n",
    "$$P(C \\mid \\neg R \\wedge E)=\\frac{250}{500}=\\frac{1}{2}$$\n",
    "$$P(C \\mid \\neg R \\wedge A)=\\frac{125}{750}=\\frac{1}{6}$$\n",
    "\n",
    "Ifølge målet over diskriminerer derfor prediksjonen sterkt imot $E$ relativt til $A$, selv om dette intuitivt ikke er riktig: gruppen $E$ har mye høyere residiveringsrate, som er grunnen til at det predikeres oftere at individer av gruppen $E$ vil residivere, som er grunnen til at flere ikke-residiverende $E$-er får en falsk positiv prediksjon.\n",
    "\n",
    "Vi foreslår derfor et nytt mål som ikke lider av dette problemet. Først, merk at det følgende forholdstallet kan sies å måle i hvilken grad algoritmen overvurderer eller undervurderer hvor ofte individer residiverer i gruppen A: \n",
    "\n",
    "$$ \\frac{P(C | A)}{P(R | A)}$$\n",
    "\n",
    "Er dette forholdet større enn 1 overvurderer algoritmen insidensen av residivering blant A, og er forholdet mindre enn 1 undervurderer algoritmen insidensen av residivering blant A. Idéen for målet vi foreslår her er at når en algoritme overvurderer insidensen av residivering for en gruppe, men ikke for en annen, eller undervurderer for en gruppe men ikke for en annen, så er algoritmen diskriminerende. Altså, vi foreslår et mål på diskriminering som er forskjellen i slik overvurdering eller undervurdering på tvers av grupper:\n",
    "\n",
    "$$D^*(A;E):= \\frac{P(C | A)}{P(R | A)} - \\frac{P(C | E)}{P(R | E)}$$\n",
    "\n",
    "Ett mulig krav på at en algoritme skal være ikke-diskriminerende kan være at den ikke forskjellsbehandler på denne måten i det hele tatt, altså at dette målet er 0 eller nær 0. I dette tilfellet kommer dette kravet til at:\n",
    "\n",
    "$$\\frac{P(C | A)}{P(R | A)} = \\frac{P(C | E)}{P(R | E)}$$\n",
    "\n",
    "La oss se at disse målene ikke lider av problemet vi hadde med det forrige målet. Ta eksempelet vi brukte med populasjonen av 2000 over. Da har vi at prediksjonen ikke er diskriminerende, altså den tilfredstiller betingelsene over:\n",
    "\n",
    "$$\\frac{P(C \\mid A)}{P(R \\mid A)}=\\dfrac{250}{250}=1=\\dfrac{500}{500}=\\frac{P( C \\mid E)}{P(R | E)}.$$\n",
    "\n",
    "Vi har dermed et foreslått et klart kriterium for om en algoritme er diskriminerende, generelt sett. I den følgende seksjonen diskuterer vi om COMPAS-algoritmen spesielt er diskriminerende.\n"
   ]
  },
  {
   "cell_type": "markdown",
   "metadata": {},
   "source": [
    "## 5. Diskusjon\n",
    "<a id='5'></a>"
   ]
  },
  {
   "cell_type": "markdown",
   "metadata": {},
   "source": [
    "### Er algoritmen diskriminerende?  <a id='5a'></a>"
   ]
  },
  {
   "cell_type": "markdown",
   "metadata": {},
   "source": [
    "\n",
    "Dersom det er systematiske forskjeller mellom grupper i et samfunn og dette fører til eller henger sammen med økt kriminalitet i enkelte grupper, så gir det mening å ta dette i betraktning når man skal forsøke å hindre kriminalitet. Ideelt sett så vil alle grupper i samfunnet være så integrerte og tilpasset hverandre at gruppetilhørighet, faktisk eller tenkt, ikke vil ha noe å si for økonomiske og sosiale forhold, og at kriminalitet vil være jevnt fordelt. I fraværet av en slik ideell tilstand så vil det være urettferdig ikke å ta stilling til gruppe, nettopp fordi det er viktig for å predikere hvem som residiverer og for at man skal kunne fange det opp dersom systemet er med på å holde gruppeforskjellene som fører til kriminalitet ved like. Ideelt sett har ikke gruppe noe å si, men det kan være hensiktsmessig med tanke på et formål om å hindre kriminalitet, å ta stilling til gruppetilhørighet dersom det viser seg å være en viktig faktor.\n",
    "\n",
    "Vi har definert et mål på gruppediskriminering i [del 4](#4) som tilsier at algoritmen ikke kan gi fordeler basert på hvilken gruppe du tilhører. Det vil si at uavhengig av hvor mye kriminalitet det er i en gitt gruppe så må algoritmen ta like mye feil av hvem som kommer til å residivere og ikke residivere i hver gruppe. Med andre ord, algoritmen må overvurdere eller undervurdere insidensen av residivering på samme måte på tvers av grupper. Dersom dette kravet er tilfredsstilt så er det grunn til å si at algoritmen ikke gir fordeler eller ulemper basert på gruppe og derfor ikke diskriminerer mellom gruppene.\n",
    "\n",
    "Dette kravet ser vi at COMPAS-algoritmen *ikke* tilfredsstiller. Vi ser fra analysen vår at: \n",
    "\n",
    "$$\\frac{P(C | A)}{P(R | A)} = 0.576/0.523=1.101, og$$\n",
    "$$\\frac{P(C|E)}{P(R|E)}=0.331/0.391 = 0.847.$$\n",
    "Dette bryter kravet vårt for diskriminering mot svarte (A) relativt til hvite: Algoritmen overvurderer insidensen (med en faktor 1.101) av residivering hos svarte, mens undervurderer insidensen av residivering hos hvite, E (faktor 0.847). Derfor mener vi COMPAS-algoritmen diskriminerer på basis av rase. \n",
    "\n",
    "    \n",
    "Vi ser at det er nesten helt like falsk positiv rater mellom kvinner og menn noe som vil tilsi at det er like sannsynlig å få en høy COMPAS Score selv om man ikke kommer til å residivere, uavhengig av kjønn. Derimot er det noe større forskjell i falske negative (lavere rate for kvinner), som kan tilsi at kvinner har større sannsynlighet for å få lav Score og residivere enn menn, men forskjellen er liten.\n",
    "\n",
    "Når vi ser på falske positive mellom hvite og svarte ser det langt verre ut, svarte har mye større sannsynlighet for å få høy COMPAS Score, selv om de ikke residiverer, enn hvite som ikke residiverer. Ser man på falske negative er forskjellen tilsvarende urettferdig, med langt høyere falsk negativ rate for hvite, er det mer sannsynlig at en hvit person får lav score og residiverer enn at en svart person får lav score og residiverer.\n",
    "\n",
    "Dersom COMPAS Score ligger til grunn for prøveløslatelser så vil man se at det er lettere for hvite enn for svarte å slippe ut selv om de kommer til å residivere. Det vil òg være flere svarte som får høy COMPAS Score selv om de ikke kommer til å residivere. Fordi prøveløslatelse er et gode som skal fordeles til de som er ufarlige for samfunnet, kan vi si at de som får tildelt prøveløslatelse og residiverer får tildelt dette godet urettmessig. En høy falsk positiv rate i en gruppe, vil tilsi at individer i denne gruppen lettere blir nektet prøveløslatelse selv om de trygt kunne sluppet ut. En høy falsk negativ rate i en gruppe vil peke på at individer i denne gruppen lettere får prøveløslatelse selv om de residiverer.  Det er da grunn til å tro at algoritmen er skjev i retning av å holde svarte i fengsel og lettere slippe hvite ut av fengsel.\n",
    "Partial dependence plottingen viser at det slår ut positivt på COMPAS Scoren dersom en person er svart, dvs. høyere sannsynlighet for å bli predikert til å residivere. Alene er det vanskelig å si at dette er et mål på diskriminering, men det er ubehagelig, og muligens rasistisk at rase skal spille en rolle i prediksjonen av hvem som residiverer og ikke. \n",
    "\n",
    "\n",
    "Funnene våre hva angår algoritmens behandling av kvinner viser seg å sprike, som nevnt kan det se ut som kvinner har en litt høyere falsk negativ rate enn menn som vil tilsi at en større andel kvinner som residiverer blir predikert til ikke å gjøre det. At i forhold til menn så vil algoritmen gjøre det lettere for kvinner å slippe ut av fengsel, selv om de ikke burde det. \n",
    "\n",
    "Men dette strider med andre funn vi har som kan tilsi at algoritmen diskriminerer kvinner negativt. En større prosentandel kvinner blir predikert til å residivere en de som faktisk gjør det, mens en lavere prosentandel av menn blir predikert til å residivere, en de som faktisk gjør det. Dette kan tolkes dit at algoritmen overvurderer andelen kvinner som residiverer og undervurderer andelen menn, uten at man har sett disse gruppene i sammenheng med hverandre. \n",
    "\n",
    "Et annet mål som kan peke på at kvinner diskrimineres imot er at i partial dependency plottet, så ser det ut til at algoritmen gir i snitt høyere score dersom personen som vurderes er en kvinne. \n",
    "\n",
    "Det er i sum vanskelig å vurdere om algoritmen er kvinne diskriminerende eller ikke, siden vi har funn som peker i begge rettninger. En kan dog si at siden det ikke er helt jevnt mellom menn og kvinner i alt at kjønn uansett ser ut til å spille en rolle og at den derfor er sexistisk. \n"
   ]
  },
  {
   "cell_type": "markdown",
   "metadata": {},
   "source": [
    "### Feilkilder i vår analyse <a id='5b'></a>"
   ]
  },
  {
   "cell_type": "markdown",
   "metadata": {},
   "source": [
    "**Dataen vi bruker versus dataen COMPAS er trent på**\n",
    "\n",
    "Det er viktig å påpeke at dataene har mye å si. Vi bruker et begrenset datasett og har heller ikke COMPAS-algoritmen tilgjengelig. Den er heller ikke åpen, og vi vet derfor ikke om de har hatt tilgjengelig andre eller flere faktorer enn de vi tar med, og om det spiller inn på utfallet av algoritmen. Northpointe, som laget COMPAS-algoritmen, har i kjølevannet av ProPublica-analysen gått ut og sagt at de også brukte andre faktorer: \"which includes factors such as education levels, and whether a defendant has a job.\" (se <a href=\"https://www.propublica.org/article/machine-bias-risk-assessments-in-criminal-sentencing\" target=\"_blank\"> artikkelen av ProPublica</a>). Det begrensede datasettet vil ha mye å si i analysen. Vi har for eksempel at kun 1/5 av dataen er kvinner. Videre kommer det frem at det generelt finnes mye bekreftende data om svarte menn. I det første barplottet kan vi se at de har både størst prosentandel på predikert tilbakefall og faktisk tilbakefall. Man kan ikke konkludere med at datasettet COMPAS ble trent på lignende data, men det er mulig å anta det.   \n",
    "\n",
    "**Vi får ikke testet COMPAS-algoritmen direkte**\n",
    "\n",
    "Det er viktig å påpeke at den logistiske regresjonen vi utfører i [seksjon 3](#3) kan føre til feilkilder og feilbeslutninger.  Modellen vår, hvis mål er å predikere COMPAS-scoren, har en nøyaktighet på 75% - altså langt fra hva man vanligvis kaller en god modell. Derfor kan vi ikke bastant anklage COMPAS til å være \"så-så mange prosent rasistisk\", ettersom vår modell ikke er helt lik COMPAS sin modell. Vi kan anklage den for å være diskriminerende, men kvier oss for å bruke tall fra oppgave analysen gjort av \"COMPAS-replikaen\" vår. \n",
    "\n",
    "**Målet \"Racial Bias\" er relativt**\n",
    "\n",
    "Vi testet i [seksjon 3](#3) ProPublicas påstand om at \"Black defendants were still (…) 45 percent more likely to be predicted to commit a future crime of any kind.”, og skrev i `Python` mer eller mindre det samme som de skrev i `R`. Vi produserte det samme resultatet, men er likevel kritiske til hvor gjeldende det er. I utforskende notebooks (se [notebook 1d](../Notebooks/1d.ipynb#er_nøytral)), så vi at det har mye å si dersom man lar \"kontrollpersonen\" ha andre kvaliteter. Vårt tall på 45% for Racial Bias gjelder derfor kun for den hvite versus svarte mannen hvis fellestrekk er at de er mellom 25-45 år og har utført en kriminell handling med charge degree F. \n",
    "\n",
    "\n",
    "Generelt er det vanskelig å stole på tall fra [seksjon 3](#3) ettersom vi både baserer oss på et utvalg data der vi ikke vet om alle relevante faktorer er med *og* vi har en relativt dårlig modell. Likevel sier denne seksjonen oss mye om *tendenser* i prediksjonen. Uansett er det mer sikkert å bruke [seksjon 2](#2), som er ren analyse av dataen."
   ]
  },
  {
   "cell_type": "markdown",
   "metadata": {},
   "source": [
    "## 6. Konklusjon\n",
    "<a id='6'></a>"
   ]
  },
  {
   "cell_type": "markdown",
   "metadata": {},
   "source": [
    "Vi har i denne oppgaven undersøkt COMPAS-algoritmens prediksjoner om residivering i Boward County i Florida. Først presenterte og redegjorde vi for disse dataene. Vi hentet så ut flere betingede sannsynligheter fra dataene, og fant algoritmens spesifisitet og sensitivitet innad i flere grupper, samt positiv prediktiv verdi. \n",
    "\n",
    "Vi trente så en logistisk regressjonsmodell for å videre undersøke COMPAS-algoritmen, og se om den var hadde et diskriminerende på bakgrunn av rase, kontrollert for flere variable. Fra denne modellen hentet vi ut et partial dependence plot, som vi senere argumenterte for støttet opp under at algoritmen hadde diskriminerende på grunnlag av rase. \n",
    "\n",
    "Vi diskuterte så noen probabilistiske mål på diskriminering. Vi så hvordan ett foreslått mål relaterte seg til spesifisitet og positiv prediktiv verdi. Vi kritiserte dette foreslåtte målet, og foreslo et nytt mål og et kriterium for at en algoritme ikke skal være diskriminerende.\n",
    "\n",
    "Vi diskuterte så om COMPAS-algoritmen var diskriminerende. På bakgrunn av analyse vår av COMPAS-algoritmen argumenterte vi derfor at algoritmen var diskriminerende mot svarte på bakgrunn av rase, dette tok vi også partial dependency-analysen vår til å støtte opp under. \n",
    "\n",
    "Til slutt diskuterte vi noen mulige feilkilder til analysen: vi har ikke tilgang til dataene COMPAS-algoritmen selv er trent på, modellen vår av COMPAS-algoritmen var av begrenset nøyaktighet, og målet på \"Racial bias\" fra ProPublica-studien vi reproduserte var relativt til valg av standardperson."
   ]
  },
  {
   "cell_type": "markdown",
   "metadata": {},
   "source": [
    "## 7. Referanser\n",
    "\n",
    "Under følger referanser til ProPublicas artikkel, så en artikkel av ProPublica-gruppen som oppsummerer metodene  anvendt i analysen sin, og til slutt GitHub-sidene som hører til ProPublica-analysen.\n",
    "\n",
    "Julia Angwin, Jeff Larson, Surya Mattu and Lauren Kirchner (2016) \"Machine Bias\", ProPublica, 23.05.2016.\n",
    "(https://www.propublica.org/article/machine-bias-risk-assessments-in-criminal-sentencing), hentet 10.04.2021.\n",
    "\n",
    "Julia Angwin, Jeff Larson, Surya Mattu and Lauren Kirchner (2016) \"How We Analyzed the COMPAS Recidivism Algorithm\", ProPublica, 23.05.2016.\n",
    "(https://www.propublica.org/article/how-we-analyzed-the-compas-recidivism-algorithm), hentet 10.04.2021.\n",
    "\n",
    "GitHub-side til ProPublica-analysen av COMPAS:\n",
    "(https://github.com/propublica/compas-analysis), hentet 10.04.2021. \n",
    "\n",
    "\n"
   ]
  }
 ],
 "metadata": {
  "kernelspec": {
   "display_name": "Python 3",
   "language": "python",
   "name": "python3"
  },
  "language_info": {
   "codemirror_mode": {
    "name": "ipython",
    "version": 3
   },
   "file_extension": ".py",
   "mimetype": "text/x-python",
   "name": "python",
   "nbconvert_exporter": "python",
   "pygments_lexer": "ipython3",
   "version": "3.8.3"
  }
 },
 "nbformat": 4,
 "nbformat_minor": 4
}
