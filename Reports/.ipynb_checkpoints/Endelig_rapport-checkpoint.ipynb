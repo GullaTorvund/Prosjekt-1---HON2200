{
 "cells": [
  {
   "cell_type": "markdown",
   "metadata": {},
   "source": [
    "# COMPAS \"\"\"bedre tittel\"\"\"\n",
    "## Prosjekt 1 i HON2200 - april 2021\n",
    "### Theodor O. Aaberge, Silje Bentdal, Adrian Ommundsen og Gulla Torvund"
   ]
  },
  {
   "cell_type": "markdown",
   "metadata": {},
   "source": [
    "\"\"\"abstract\"\"\""
   ]
  },
  {
   "cell_type": "markdown",
   "metadata": {},
   "source": [
    "\"\"\"innledning\"\"\"\n",
    "\n",
    "Planen for oppgaven er som følger. I seksjon 2 (1a og 1b) gjør vi en enkel dataanalyse og sammenlikning av rater for faktisk residivering og predikert residivering innad i forskjellige grupper av befolkningen. I seksjon 3 (1d) studerer vi beslutningene til COMPAS-algoritmen ved å trene en logistisk regresjonsmodell som predikerer COMPAS' avgjørelser på basis av, blant annet, rase og kjønn. Fra vår modell henter vi ut et mål, partial dependence, på hvor mye vekt COMPAS-algoritmen legger på rase-variabelen. I seksjon 4 (1c) diskuterer vi probabilistike mål på grad av diskriminering. I seksjon 4 diskuterer vi funnnene våre og argumenterer for at disse viser at COMPAS-algoritmen diskriminerer på basis av rase. Seksjon 5 konkluderer. \n"
   ]
  },
  {
   "cell_type": "markdown",
   "metadata": {},
   "source": [
    "skjelett:\n",
    "\n",
    "* abstract\n",
    "\n",
    "* innledning\n",
    "\n",
    "* 1a + 1b + 1d\n",
    "\n",
    "* 1c\n",
    "\n",
    "* diskusjon\n",
    "\n",
    "* konklusjon\n",
    "\n"
   ]
  },
  {
   "cell_type": "markdown",
   "metadata": {},
   "source": [
    "#2.  Undersøker dataene"
   ]
  },
  {
   "cell_type": "markdown",
   "metadata": {},
   "source": [
    "For å forstå dataene, ønsker vi å undersøke spesifikke aspekter ved dem. Vi vil se på relativ frekvens av faktorer innad i de ulike gruppene og sammenligne resultatene. Tilfellene vi skal se på er \n",
    "* hvor ofte ulike grupperinger av mennesker (kvinner, menn, hvite og svarte) gjentar forbrytelser og blir predikert å begå straffbare handlinger i framtiden (som andel, ikke totalt antall).\n",
    "\n",
    "* hvor ofte ulike grupper fikk ulike risikoskårer.\n",
    "\n",
    "* hvor ofte de som begikk nye straffbare hadlinger (og de som ikke gjorde det) fikk ulike risikoskårer, og hvordan dette ser ut hvis du kun ser på hvite eller svarte."
   ]
  },
  {
   "cell_type": "markdown",
   "metadata": {},
   "source": [
    "Først importerer vi nødvendige pakker for hele rapporten. `pandas`brukes i stor grad ettersom vi behandler dataene som \"DataFrames\"."
   ]
  },
  {
   "cell_type": "code",
   "execution_count": 17,
   "metadata": {},
   "outputs": [],
   "source": [
    "import numpy as np\n",
    "import pandas as pd\n",
    "import matplotlib.pyplot as plt\n",
    "from sklearn.model_selection import train_test_split\n",
    "from sklearn.metrics import accuracy_score\n",
    "from sklearn.linear_model import LogisticRegression\n",
    "from sklearn.inspection import plot_partial_dependence"
   ]
  },
  {
   "cell_type": "markdown",
   "metadata": {},
   "source": [
    "Vi leser inn dataen. Vi kvitter oss med den dataen hvor siktelsesdatoen er mer enn 30 dager unna datoen for arrestasjonen - ProPublica anså denne dataen som for usikker til å inkludere i studien."
   ]
  },
  {
   "cell_type": "code",
   "execution_count": 18,
   "metadata": {},
   "outputs": [],
   "source": [
    "data = pd.read_csv(\"..//Data/compas-scores-two-years.csv\")\n",
    "data = data[data[\"days_b_screening_arrest\"] <= 30]\n",
    "data = data[data[\"days_b_screening_arrest\"] >= -30]"
   ]
  },
  {
   "cell_type": "markdown",
   "metadata": {},
   "source": [
    "Vi lager en ny `pandas.DataFrame` og inkluderer den dataen som vi ønsker å se nærmere på. Som ProPublica, definerer vi at de som har fått COMPAS-score \"Medium\" eller \"High\" predikeres til å residivere innen to år."
   ]
  },
  {
   "cell_type": "code",
   "execution_count": 19,
   "metadata": {},
   "outputs": [],
   "source": [
    "df = pd.DataFrame({\n",
    "    \"kvinne\": data.sex == \"Female\",\n",
    "    \"hvit\": data.race == \"Caucasian\",\n",
    "    \"svart\": data.race == \"African-American\",\n",
    "    \"tilbakefall\": data.two_year_recid == 1,\n",
    "    \"predikert_tilbakefall\": data.score_text != \"Low\",\n",
    "    \"lav_score\": data.score_text == \"Low\",\n",
    "    \"medium_score\": data.score_text == \"Medium\",\n",
    "    \"høy_score\": data.score_text == \"High\",})"
   ]
  },
  {
   "cell_type": "markdown",
   "metadata": {},
   "source": [
    "For å regne ut den relative frekvensen av forekomst av en spesifikk egenskap innad i en gruppe, brukes `prosentandel`. Funksjonen `barplott` tar inn de egenskapene og gruppene vi ønsker å undersøke og plotter resultatene i tabell og barplott."
   ]
  },
  {
   "cell_type": "code",
   "execution_count": 20,
   "metadata": {},
   "outputs": [],
   "source": [
    "def prosentandel(fokus, gruppe):\n",
    "    \"\"\"Regner ut prosentandelen av gruppen (gruppe) som har den spesifikke egenskapen (fokus)\n",
    "    \"\"\"\n",
    "    return float(f'{len(df[fokus & gruppe]) / len(df[gruppe]) * 100:.1f}')\n",
    "\n",
    "def barplott(fokusliste, gruppeliste, kol_navn, rad_navn, tittel, ha_tabell = 'Ja'):\n",
    "    \"\"\"Lager en DataFrame med ønskede prosentandeler og plotter den i et barplott.\n",
    "    Tar inn lister over egenskaper og grupper man ønsker å undersøke, samt navn som blir synlig i tabell og plott\n",
    "    OBS! I tabellen er alle tall prosentandeler\n",
    "    \"\"\"\n",
    "    tabell = pd.DataFrame(columns=kol_navn)\n",
    "    \n",
    "    for i,fokus in enumerate(fokusliste):\n",
    "        tabell.loc[i] = [prosentandel(fokus, gruppe) for gruppe in gruppeliste]\n",
    "    tabell.index = rad_navn\n",
    "    ax = tabell.plot.bar(colormap='Set3', figsize=(8,6), rot=0)\n",
    "    ax.set_ylabel('Prosentandel')\n",
    "    ax.set_title(tittel)\n",
    "    plt.rcParams.update({'font.size': 13})\n",
    "    if ha_tabell == 'Ja': # default er å vise tabellen i tillegg til barplottet\n",
    "        display(tabell)         "
   ]
  },
  {
   "cell_type": "markdown",
   "metadata": {},
   "source": [
    "Nå er vi rustet får å se på de ulike aspektene:"
   ]
  },
  {
   "cell_type": "markdown",
   "metadata": {},
   "source": [
    "\n",
    "### Hvor ofte gjentar ulike grupperinger av mennesker (kvinner, menn, hvite og svarte) forbrytelser og blir predikert å begå straffbare handlinger i framtiden?"
   ]
  },
  {
   "cell_type": "code",
   "execution_count": 21,
   "metadata": {},
   "outputs": [
    {
     "data": {
      "text/html": [
       "<div>\n",
       "<style scoped>\n",
       "    .dataframe tbody tr th:only-of-type {\n",
       "        vertical-align: middle;\n",
       "    }\n",
       "\n",
       "    .dataframe tbody tr th {\n",
       "        vertical-align: top;\n",
       "    }\n",
       "\n",
       "    .dataframe thead th {\n",
       "        text-align: right;\n",
       "    }\n",
       "</style>\n",
       "<table border=\"1\" class=\"dataframe\">\n",
       "  <thead>\n",
       "    <tr style=\"text-align: right;\">\n",
       "      <th></th>\n",
       "      <th>Kvinner</th>\n",
       "      <th>Menn</th>\n",
       "      <th>Hvite</th>\n",
       "      <th>Svarte</th>\n",
       "    </tr>\n",
       "  </thead>\n",
       "  <tbody>\n",
       "    <tr>\n",
       "      <td>Tilbakefallende</td>\n",
       "      <td>35.1</td>\n",
       "      <td>47.9</td>\n",
       "      <td>39.1</td>\n",
       "      <td>52.3</td>\n",
       "    </tr>\n",
       "    <tr>\n",
       "      <td>Predikert tilbakefallende</td>\n",
       "      <td>40.5</td>\n",
       "      <td>45.5</td>\n",
       "      <td>33.1</td>\n",
       "      <td>57.6</td>\n",
       "    </tr>\n",
       "  </tbody>\n",
       "</table>\n",
       "</div>"
      ],
      "text/plain": [
       "                           Kvinner  Menn  Hvite  Svarte\n",
       "Tilbakefallende               35.1  47.9   39.1    52.3\n",
       "Predikert tilbakefallende     40.5  45.5   33.1    57.6"
      ]
     },
     "metadata": {},
     "output_type": "display_data"
    },
    {
     "data": {
      "image/png": "[encoded data removed]",
      "text/plain": [
       "<Figure size 576x432 with 1 Axes>"
      ]
     },
     "metadata": {
      "needs_background": "light"
     },
     "output_type": "display_data"
    }
   ],
   "source": [
    "resid_predresid = [df.tilbakefall, df.predikert_tilbakefall]\n",
    "gruppe = [df.kvinne, ~df.kvinne, df.hvit, df.svart]\n",
    "gruppenavn = ['Kvinner', 'Menn', 'Hvite', 'Svarte']\n",
    "resid_predresid_navn = ['Tilbakefallende', 'Predikert tilbakefallende']\n",
    "tittel1 = 'Fordeling av tilbakefallende og predikert tilbakefallende blant gruppene'\n",
    "barplott(resid_predresid, gruppe, gruppenavn, resid_predresid_navn, tittel1)"
   ]
  },
  {
   "cell_type": "markdown",
   "metadata": {},
   "source": [
    "Vi ser at COMPAS-algoritmen predikerer en større andel svarte og kvinner til å residivere enn dét som faktisk er tilfelle, mens den vipper i motsatt retning for menn og hvite."
   ]
  },
  {
   "cell_type": "markdown",
   "metadata": {},
   "source": [
    "\n",
    "### Hvor ofte fikk de ulike gruppene de tre risikoskårene?\n"
   ]
  },
  {
   "cell_type": "code",
   "execution_count": 22,
   "metadata": {},
   "outputs": [
    {
     "data": {
      "text/html": [
       "<div>\n",
       "<style scoped>\n",
       "    .dataframe tbody tr th:only-of-type {\n",
       "        vertical-align: middle;\n",
       "    }\n",
       "\n",
       "    .dataframe tbody tr th {\n",
       "        vertical-align: top;\n",
       "    }\n",
       "\n",
       "    .dataframe thead th {\n",
       "        text-align: right;\n",
       "    }\n",
       "</style>\n",
       "<table border=\"1\" class=\"dataframe\">\n",
       "  <thead>\n",
       "    <tr style=\"text-align: right;\">\n",
       "      <th></th>\n",
       "      <th>Kvinner</th>\n",
       "      <th>Menn</th>\n",
       "      <th>Hvite</th>\n",
       "      <th>Svarte</th>\n",
       "    </tr>\n",
       "  </thead>\n",
       "  <tbody>\n",
       "    <tr>\n",
       "      <td>Lav score</td>\n",
       "      <td>59.5</td>\n",
       "      <td>54.5</td>\n",
       "      <td>66.9</td>\n",
       "      <td>42.4</td>\n",
       "    </tr>\n",
       "    <tr>\n",
       "      <td>Medium score</td>\n",
       "      <td>27.7</td>\n",
       "      <td>25.7</td>\n",
       "      <td>22.5</td>\n",
       "      <td>31.0</td>\n",
       "    </tr>\n",
       "    <tr>\n",
       "      <td>Høy score</td>\n",
       "      <td>12.9</td>\n",
       "      <td>19.9</td>\n",
       "      <td>10.6</td>\n",
       "      <td>26.6</td>\n",
       "    </tr>\n",
       "  </tbody>\n",
       "</table>\n",
       "</div>"
      ],
      "text/plain": [
       "              Kvinner  Menn  Hvite  Svarte\n",
       "Lav score        59.5  54.5   66.9    42.4\n",
       "Medium score     27.7  25.7   22.5    31.0\n",
       "Høy score        12.9  19.9   10.6    26.6"
      ]
     },
     "metadata": {},
     "output_type": "display_data"
    },
    {
     "data": {
      "image/png": "[encoded data removed]",
      "text/plain": [
       "<Figure size 576x432 with 1 Axes>"
      ]
     },
     "metadata": {
      "needs_background": "light"
     },
     "output_type": "display_data"
    }
   ],
   "source": [
    "score = [df.lav_score, df.medium_score, df.høy_score]\n",
    "score_navn = ['Lav score', 'Medium score', 'Høy score']\n",
    "tittel2 = 'Fordeling av risikoscore blant gruppene'\n",
    "\n",
    "barplott(score, gruppe, gruppenavn, score_navn, tittel2)"
   ]
  },
  {
   "cell_type": "markdown",
   "metadata": {},
   "source": [
    "Det mest fremtredende resultatet her er at hvite har tydelig lavere score enn svarte. Hvite har en overveiende prosentandel som har lav score, mens de svartes score er mer jevt fordelt."
   ]
  },
  {
   "cell_type": "markdown",
   "metadata": {},
   "source": [
    "\n",
    "### Hvor ofte fikk tilbakefallende og ikke-tilbakefallende ulike risikoskårer, og hvordan ser ut når vi kun ser på hvite og svarte?"
   ]
  },
  {
   "cell_type": "code",
   "execution_count": 23,
   "metadata": {},
   "outputs": [
    {
     "data": {
      "image/png": "[encoded data removed]",
      "text/plain": [
       "<Figure size 576x432 with 1 Axes>"
      ]
     },
     "metadata": {
      "needs_background": "light"
     },
     "output_type": "display_data"
    }
   ],
   "source": [
    "resid = [df.tilbakefall, ~df.tilbakefall]\n",
    "resid_navn = ['Tilbakefallende', 'Ikke-tilbakefallende']\n",
    "tittel3 = 'Fordeling av risiko-score for tilbakefallende og ikke-tilbakefallende'\n",
    "\n",
    "barplott(score, resid, resid_navn, score_navn, tittel3, ha_tabell = 'Nei')"
   ]
  },
  {
   "cell_type": "markdown",
   "metadata": {},
   "source": [
    "Totalt sett er COMPAS-algoritmen tydelig bedre på å predikere de som ikke tilbakefaller enn de som tilbakefaller."
   ]
  },
  {
   "cell_type": "code",
   "execution_count": 24,
   "metadata": {},
   "outputs": [
    {
     "data": {
      "text/html": [
       "<div>\n",
       "<style scoped>\n",
       "    .dataframe tbody tr th:only-of-type {\n",
       "        vertical-align: middle;\n",
       "    }\n",
       "\n",
       "    .dataframe tbody tr th {\n",
       "        vertical-align: top;\n",
       "    }\n",
       "\n",
       "    .dataframe thead th {\n",
       "        text-align: right;\n",
       "    }\n",
       "</style>\n",
       "<table border=\"1\" class=\"dataframe\">\n",
       "  <thead>\n",
       "    <tr style=\"text-align: right;\">\n",
       "      <th></th>\n",
       "      <th>Tilbakefallende hvite</th>\n",
       "      <th>Tilbakefallende svarte</th>\n",
       "      <th>Ikke-tilbakefallende hvite</th>\n",
       "      <th>Ikke-tilbakefallende svarte</th>\n",
       "    </tr>\n",
       "  </thead>\n",
       "  <tbody>\n",
       "    <tr>\n",
       "      <td>Lav score</td>\n",
       "      <td>49.6</td>\n",
       "      <td>28.5</td>\n",
       "      <td>78.0</td>\n",
       "      <td>57.7</td>\n",
       "    </tr>\n",
       "    <tr>\n",
       "      <td>Medium score</td>\n",
       "      <td>30.7</td>\n",
       "      <td>33.4</td>\n",
       "      <td>17.3</td>\n",
       "      <td>28.4</td>\n",
       "    </tr>\n",
       "    <tr>\n",
       "      <td>Høy score</td>\n",
       "      <td>19.7</td>\n",
       "      <td>38.2</td>\n",
       "      <td>4.8</td>\n",
       "      <td>13.9</td>\n",
       "    </tr>\n",
       "  </tbody>\n",
       "</table>\n",
       "</div>"
      ],
      "text/plain": [
       "              Tilbakefallende hvite  Tilbakefallende svarte  \\\n",
       "Lav score                      49.6                    28.5   \n",
       "Medium score                   30.7                    33.4   \n",
       "Høy score                      19.7                    38.2   \n",
       "\n",
       "              Ikke-tilbakefallende hvite  Ikke-tilbakefallende svarte  \n",
       "Lav score                           78.0                         57.7  \n",
       "Medium score                        17.3                         28.4  \n",
       "Høy score                            4.8                         13.9  "
      ]
     },
     "metadata": {},
     "output_type": "display_data"
    },
    {
     "data": {
      "image/png": "[encoded data removed]",
      "text/plain": [
       "<Figure size 576x432 with 1 Axes>"
      ]
     },
     "metadata": {
      "needs_background": "light"
     },
     "output_type": "display_data"
    }
   ],
   "source": [
    "etnisk_resid = [df.hvit & df.tilbakefall, df.svart & df.tilbakefall, df.hvit & ~df.tilbakefall, df.svart & ~df.tilbakefall]\n",
    "score_navn = ['Lav score', 'Medium score', 'Høy score']\n",
    "etnisk_resid_navn = [\"Tilbakefallende hvite\", \"Tilbakefallende svarte\",\"Ikke-tilbakefallende hvite\",\"Ikke-tilbakefallende svarte\"]\n",
    "tittel4 = 'Fordeling av risiko-score blant tilbakefallende og ikke-tilbakefallende hvite og svarte'\n",
    "\n",
    "barplott(score, etnisk_resid, etnisk_resid_navn, score_navn, tittel4)"
   ]
  },
  {
   "cell_type": "markdown",
   "metadata": {},
   "source": [
    "COMPAS-scoren gjenspeiler ikke-tilbakefallende hvite godt og ikke-tilbakefallende svarte nogenlunde. For tilbakefallende svarte er den såvidt bedre enn en random-algoritme, og for tilbakefallende hvite predikerer den dårligere enn en random-algoritme."
   ]
  },
  {
   "cell_type": "markdown",
   "metadata": {},
   "source": [
    "## Rater og betinget sannsynlighet for undergrupper"
   ]
  },
  {
   "cell_type": "markdown",
   "metadata": {},
   "source": [
    "Vi ønsker nå å se på data for følgende grupper:\n",
    "* Hele befolkningen\n",
    "* Kvinner \n",
    "* Menn \n",
    "* Hvite\n",
    "* Svarte\n",
    "\n",
    "Vi undersøker raten av falske positive, sanne positive, falske negative og sanne negative. I tillegg ønsker vi å se på sannsynligheten for at gruppen residiverer (tilbakefall) gitt at de er blitt predikert til å gjøre det, altså COMPAS-algoritmens positiv prediktive verdi.   \n",
    "Til dette bruker vi funksjonene `falsk_positiv`, `sann_positiv`, `falsk_negativ`, `sann_negativ` og `p_residiv_g_høy`. "
   ]
  },
  {
   "cell_type": "code",
   "execution_count": 25,
   "metadata": {},
   "outputs": [],
   "source": [
    "def falsk_positiv(gruppe):\n",
    "    \"\"\"Regner ut raten av falske positive for en gitt gruppe\n",
    "    -----\n",
    "    Arguments:\n",
    "        gruppe: array med True/False verdier for dataframe\n",
    "    \n",
    "    Return:\n",
    "        float: raten av falske positive i prosent med én desimal. \n",
    "    \"\"\"\n",
    "    # FP / (FP + SN)\n",
    "    return float(f'{len(df[gruppe & df.predikert_tilbakefall & ~df.tilbakefall]) / len(df[gruppe & ~df.tilbakefall]) * 100:.1f}')\n",
    "\n",
    "def sann_positiv(gruppe):\n",
    "    \"\"\"Regner ut raten av sanne positive for en gitt gruppe\n",
    "    -----\n",
    "    Arguments:\n",
    "        gruppe: array med True/False verdier for dataframe\n",
    "    \n",
    "    Return:\n",
    "        float: raten av sanne positive i prosent med én desimal.\n",
    "    \"\"\"\n",
    "    # SP / (SP + FN)\n",
    "    # sensitivitet\n",
    "    return float(f'{len(df[gruppe & df.predikert_tilbakefall & df.tilbakefall]) / len(df[gruppe & df.tilbakefall]) * 100:.1f}')\n",
    "\n",
    "def falsk_negativ(gruppe):\n",
    "    \"\"\"Regner ut raten av falske negative for en gitt gruppe\n",
    "    -----\n",
    "    Arguments:\n",
    "        gruppe: array med True/False verdier for dataframe\n",
    "    \n",
    "    Return:\n",
    "        float: raten av falske negative i prosent med én desimal.\n",
    "    \"\"\"\n",
    "    # FN / (FN + SP)\n",
    "    return float(f'{len(df[gruppe & ~df.predikert_tilbakefall & df.tilbakefall]) / len(df[gruppe & df.tilbakefall]) * 100:.1f}')\n",
    "\n",
    "def sann_negativ(gruppe):\n",
    "    \"\"\"Regner ut raten av sanne negative for en gitt gruppe\n",
    "    -----\n",
    "    Arguments:\n",
    "        gruppe: array med True/False verdier for dataframe\n",
    "    \n",
    "    Return:\n",
    "        float: raten av sanne negative i prosent med én desimal.\n",
    "    \"\"\"\n",
    "    # SN / (SN + FP)\n",
    "    # spesifisitet\n",
    "    return float(f'{len(df[gruppe & ~df.predikert_tilbakefall & ~df.tilbakefall]) / len(df[gruppe & ~df.tilbakefall]) * 100:.1f}')\n",
    "\n",
    "def p_residiv_g_høy(gruppe):\n",
    "    \"\"\"Regner ut sannsynligheten for at en gruppe residiverer gitt at de har blitt predikert til å gjøre det\n",
    "    -----\n",
    "    Arguments:\n",
    "        gruppe: array med True/False verdier for dataframe\n",
    "    \n",
    "    Return:\n",
    "        float: sannsynlighet i prosent med én desimal.\n",
    "    \"\"\"\n",
    "    return float(f'{len(df[gruppe & df.predikert_tilbakefall & df.tilbakefall]) / len(df[gruppe & df.predikert_tilbakefall]) * 100:.1f}')"
   ]
  },
  {
   "cell_type": "code",
   "execution_count": 26,
   "metadata": {},
   "outputs": [],
   "source": [
    "alle = np.full(len(df), True)"
   ]
  },
  {
   "cell_type": "code",
   "execution_count": 27,
   "metadata": {},
   "outputs": [
    {
     "data": {
      "text/plain": [
       "{'Alle': {'falsk_positiv': 30.3,\n",
       "  'falsk_negativ': 38.3,\n",
       "  'sann_positiv': 61.7,\n",
       "  'sann_negativ': 69.7,\n",
       "  'p_residiv_g_høy': 63.0},\n",
       " 'Kvinner': {'falsk_positiv': 30.2,\n",
       "  'falsk_negativ': 40.4,\n",
       "  'sann_positiv': 59.6,\n",
       "  'sann_negativ': 69.8,\n",
       "  'p_residiv_g_høy': 51.7},\n",
       " 'Menn': {'falsk_positiv': 30.3,\n",
       "  'falsk_negativ': 37.9,\n",
       "  'sann_positiv': 62.1,\n",
       "  'sann_negativ': 69.7,\n",
       "  'p_residiv_g_høy': 65.4},\n",
       " 'Hvite': {'falsk_positiv': 22.0,\n",
       "  'falsk_negativ': 49.6,\n",
       "  'sann_positiv': 50.4,\n",
       "  'sann_negativ': 78.0,\n",
       "  'p_residiv_g_høy': 59.5},\n",
       " 'Svarte': {'falsk_positiv': 42.3,\n",
       "  'falsk_negativ': 28.5,\n",
       "  'sann_positiv': 71.5,\n",
       "  'sann_negativ': 57.7,\n",
       "  'p_residiv_g_høy': 65.0}}"
      ]
     },
     "execution_count": 27,
     "metadata": {},
     "output_type": "execute_result"
    }
   ],
   "source": [
    "functions = [falsk_positiv, falsk_negativ, sann_positiv, sann_negativ, p_residiv_g_høy]\n",
    "grouplist = [alle, df.kvinne, ~df.kvinne, df.hvit, df.svart]\n",
    "namelist = ['Alle', 'Kvinner', 'Menn', 'Hvite', 'Svarte']\n",
    "d = {}\n",
    "for name, group in zip(namelist, grouplist):\n",
    "    inner_dict = {}\n",
    "    for function in functions:\n",
    "        inner_dict[function.__name__] = function(group)\n",
    "    d[name] = inner_dict\n",
    "d"
   ]
  },
  {
   "cell_type": "markdown",
   "metadata": {},
   "source": [
    "Spesifisiteten (sanne negative) sier oss noe om hvor bra COMPAS klarer å identifisere personer som ikke kommer til å få tilbakefall. Sensitiviteten (sanne positive) sier noe om hvor bra COMPAS klarer å identifisere personer som kommer til å residivere. Det er først når begge disse tallene er høye det kan konkluderes med at algoritmen er god. Dersom det ene tallet er relativt høyt, imens den andre er relativt lavt sier oss bare om algoritmen er strengere i den ene eller andre retningen. For eksempel har vi for hvite at COMPAS har høy sann negativ rate og lav sann positiv rate. Ut ifra dette kan vi trekke frem en hypotese om at den generelt gir lav score for hvite.\n",
    "\n",
    "Falske positive er personer som ikke residiverer, men som COMPAS predikerer vil gjøre det. Dette vil være mennesker som får strengere straff enn fortjent. Raten av falske positive vil være viktig å holde lav for individualistiske samfunn.   \n",
    "Falske negative er personer vi kanskje slipper ut i samfunnet igjen, men som likevel begår en kriminell handling. Disse menneskene vil utgjøre en fare for samfunnet. Raten av falske negative vil være viktig å holde lav for kollektivistiske samfunn. "
   ]
  },
  {
   "cell_type": "markdown",
   "metadata": {},
   "source": [
    "Den betingede sannsynligheten sier noe om hvor sannsynlig det er at gruppen residiverer gitt at de blir predikert til å gjøre det. Denne er relativt lav for alle grupper. "
   ]
  },
  {
   "cell_type": "markdown",
   "metadata": {},
   "source": [
    "##  Skjevheter i COMPAS på bakgrunn av rase"
   ]
  },
  {
   "cell_type": "markdown",
   "metadata": {},
   "source": [
    "Vi undersøker så skjevheter i COMPAS på bakgrunn av rase ved å kontrollere for kjønn, alder, kriminell historie og eventuell gjentatt forbrytelse. Her gjør vi hovedsaklig det samme som ProPublica-studien: vi trener en algoritme på en del av dataen vi har, bruker denne modellen til å predikere den resterende testdataen og sjekker egenskapene til modellen. Vi trener altså modellen vår til å predikere COMPAS-prediksjonen av tilbakefall. Vi bruker `sklearn`-biblioteket og dens `LogisticRegression` for å trene modellen vår. Grunnen til at vi bruker logistisk regresjon er at den funker godt på klassifikasjon med binært utfall (ref?)."
   ]
  },
  {
   "cell_type": "code",
   "execution_count": 28,
   "metadata": {},
   "outputs": [],
   "source": [
    "# velger hensiktsmessig data (samma som ProPublica)\n",
    "X = data[[\"age_cat\", \"race\", \"sex\", \"priors_count\", \"c_charge_degree\", \"two_year_recid\"]]\n",
    "\n",
    "# lager dummies av featuresene som er strings\n",
    "categorical_cols = [\"age_cat\", \"race\", \"sex\", \"c_charge_degree\"]\n",
    "X = pd.get_dummies(X, columns=categorical_cols, prefix=categorical_cols, prefix_sep='_')\n",
    "\n",
    "# tar bort overflødige dummies\n",
    "X = X.drop([\"age_cat_25 - 45\", \"race_Caucasian\", \"sex_Male\", \"c_charge_degree_F\"], axis=1)\n",
    "\n",
    "# 'fasiten' vår er COMPAS sin prediksjon av tilbakefall (score = (Medium or High))\n",
    "Y = data[\"score_text\"] != \"Low\"\n",
    "\n",
    "# splitter treningsdata og testdata med sklearn sin 'train_test_split'\n",
    "X_train, X_test, Y_train, Y_test = train_test_split(X, Y, test_size=0.20)"
   ]
  },
  {
   "cell_type": "code",
   "execution_count": 32,
   "metadata": {},
   "outputs": [
    {
     "name": "stdout",
     "output_type": "stream",
     "text": [
      "Nøyaktigheten til modellen er 0.747.\n"
     ]
    },
    {
     "name": "stderr",
     "output_type": "stream",
     "text": [
      "/opt/anaconda3/lib/python3.7/site-packages/sklearn/linear_model/logistic.py:432: FutureWarning: Default solver will be changed to 'lbfgs' in 0.22. Specify a solver to silence this warning.\n",
      "  FutureWarning)\n"
     ]
    }
   ],
   "source": [
    "# lager modellen vår, som er sklearn sin 'LogisticRegression'\n",
    "model = LogisticRegression(random_state=0, max_iter=10000)\n",
    "\n",
    "# trener modellen (tilpasser vekter) og bias på treningsdataen\n",
    "model.fit(X_train, Y_train)\n",
    "\n",
    "# tester modellen på testdataen og ser hvor godt modellen gjøre det\n",
    "Y_mdl = model.predict(X_test)\n",
    "print(f'Nøyaktigheten til modellen er {accuracy_score(Y_mdl, Y_test):.3f}.')"
   ]
  },
  {
   "cell_type": "markdown",
   "metadata": {},
   "source": [
    "Nå sjekker vi hvor mye vekt som legges på etnisitet når vi korrekterer for andre features. For å finne dette, skaper vi en \"nøytral\" person hvor ingen features vektlegges, og kun biasen sendes inn i sigmoid-funksjonen, altså aktiveringsfunksjonen i logistisk regresjon. Deretter sammenlikner vi denne nøytrale personen mot en person som kun har egenskapen 'race_African-American = True'."
   ]
  },
  {
   "cell_type": "code",
   "execution_count": 30,
   "metadata": {},
   "outputs": [],
   "source": [
    "# trenger en sigmoid-funksjon for å skape en \"nøytral\" person (se neste celle)\n",
    "def sigmoid(z):\n",
    "    \"\"\"klassisk sigmoid-funksjon som tar inn et tall z og returnerer (1/(1+e^-z)) = (e^z/(1+e^z))\n",
    "    \"\"\"\n",
    "    return np.where(z >= 0, 1 / (1 + np.exp(-z)), np.exp(z) / (1 + np.exp(z))) #np.where tar høyde for overflow"
   ]
  },
  {
   "cell_type": "code",
   "execution_count": 31,
   "metadata": {},
   "outputs": [
    {
     "ename": "NameError",
     "evalue": "name 'control' is not defined",
     "output_type": "error",
     "traceback": [
      "\u001b[0;31m---------------------------------------------------------------------------\u001b[0m",
      "\u001b[0;31mNameError\u001b[0m                                 Traceback (most recent call last)",
      "\u001b[0;32m<ipython-input-31-ba43ab38d7fd>\u001b[0m in \u001b[0;36m<module>\u001b[0;34m\u001b[0m\n\u001b[1;32m      5\u001b[0m \u001b[0mer_svart\u001b[0m \u001b[0;34m=\u001b[0m \u001b[0mvekter\u001b[0m\u001b[0;34m[\u001b[0m\u001b[0;36m4\u001b[0m\u001b[0;34m]\u001b[0m\u001b[0;34m\u001b[0m\u001b[0;34m\u001b[0m\u001b[0m\n\u001b[1;32m      6\u001b[0m \u001b[0;31m# finner racialBias, bias mht rase, i modellen vår\u001b[0m\u001b[0;34m\u001b[0m\u001b[0;34m\u001b[0m\u001b[0;34m\u001b[0m\u001b[0m\n\u001b[0;32m----> 7\u001b[0;31m \u001b[0mracialBias\u001b[0m \u001b[0;34m=\u001b[0m \u001b[0mnp\u001b[0m\u001b[0;34m.\u001b[0m\u001b[0mexp\u001b[0m\u001b[0;34m(\u001b[0m \u001b[0mer_svart\u001b[0m\u001b[0;34m)\u001b[0m \u001b[0;34m/\u001b[0m \u001b[0;34m(\u001b[0m\u001b[0;36m1\u001b[0m \u001b[0;34m-\u001b[0m \u001b[0mcontrol\u001b[0m \u001b[0;34m+\u001b[0m \u001b[0;34m(\u001b[0m\u001b[0mcontrol\u001b[0m \u001b[0;34m*\u001b[0m \u001b[0mnp\u001b[0m\u001b[0;34m.\u001b[0m\u001b[0mexp\u001b[0m\u001b[0;34m(\u001b[0m\u001b[0mer_svart\u001b[0m\u001b[0;34m)\u001b[0m\u001b[0;34m)\u001b[0m\u001b[0;34m)\u001b[0m\u001b[0;34m\u001b[0m\u001b[0;34m\u001b[0m\u001b[0m\n\u001b[0m\u001b[1;32m      8\u001b[0m \u001b[0mprint\u001b[0m\u001b[0;34m(\u001b[0m\u001b[0;34mf'Bias mht svarte er {np.mean(racialBias):.3f}.'\u001b[0m\u001b[0;34m)\u001b[0m\u001b[0;34m\u001b[0m\u001b[0;34m\u001b[0m\u001b[0m\n",
      "\u001b[0;31mNameError\u001b[0m: name 'control' is not defined"
     ]
    }
   ],
   "source": [
    "# lager en nøytral person ved å kun sende biasen inn i sigmoidfunksjonen \n",
    "kontroll = sigmoid(model.intercept_)\n",
    "vekter = model.coef_[0]\n",
    "# vekter[4] er vekten til race_African-American \n",
    "er_svart = vekter[4]\n",
    "# finner racialBias, bias mht rase, i modellen vår\n",
    "racialBias = np.exp( er_svart) / (1 - control + (control * np.exp(er_svart)))\n",
    "print(f'Bias mht svarte er {np.mean(racialBias):.3f}.')"
   ]
  },
  {
   "cell_type": "markdown",
   "metadata": {},
   "source": [
    "Altså er modellen vår rundt 45% (endres noe for hver nye modell) mer sannsynlig å predikere svarte til å residivere enn hvite."
   ]
  },
  {
   "cell_type": "markdown",
   "metadata": {},
   "source": [
    "Vi ser på hvilken innflytelse de andre parametrene har på utfallet av modellen: "
   ]
  },
  {
   "cell_type": "code",
   "execution_count": null,
   "metadata": {},
   "outputs": [],
   "source": [
    "#plotter partial dependance\n",
    "#her bør det undersøkes mye mer\n",
    "features = [\"race_African-American\",\"sex_Female\",\"two_year_recid\"]\n",
    "plot_partial_dependence(model, X_train, features)\n",
    "plt.gcf().set_size_inches(15, 6)"
   ]
  },
  {
   "cell_type": "code",
   "execution_count": null,
   "metadata": {},
   "outputs": [],
   "source": [
    "features = [\"priors_count\", \"c_charge_degree_M\", 'age_cat_Less than 25']\n",
    "plot_partial_dependence(model, X_train, features)\n",
    "plt.gcf().set_size_inches(15, 6)"
   ]
  },
  {
   "cell_type": "markdown",
   "metadata": {},
   "source": [
    "Merknad til diskusjon: modellen vår har en accuracy på 75% - altså langt fra hva man vanligvis kaller en god modell. Derfor kan vi ikke bastant anklage COMPAS til å være \"så-og-så mange prosent rasistisk\", ettersom vår modell ikke er helt lik COMPAS sin modell. Vi kan anklage den for å være diskriminerende, men kvier oss for å bruke tall fra oppgave 1d. Derfor er det bedre å bruke tall fra oppgave 1a og 1b over som er ren analyse av dataen."
   ]
  },
  {
   "cell_type": "code",
   "execution_count": null,
   "metadata": {},
   "outputs": [],
   "source": []
  },
  {
   "cell_type": "code",
   "execution_count": null,
   "metadata": {},
   "outputs": [],
   "source": []
  }
 ],
 "metadata": {
  "kernelspec": {
   "display_name": "Python 3",
   "language": "python",
   "name": "python3"
  },
  "language_info": {
   "codemirror_mode": {
    "name": "ipython",
    "version": 3
   },
   "file_extension": ".py",
   "mimetype": "text/x-python",
   "name": "python",
   "nbconvert_exporter": "python",
   "pygments_lexer": "ipython3",
   "version": "3.7.4"
  }
 },
 "nbformat": 4,
 "nbformat_minor": 4
}
